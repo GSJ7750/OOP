{
 "cells": [
  {
   "cell_type": "code",
   "execution_count": 1,
   "metadata": {},
   "outputs": [],
   "source": [
    "import pandas as pd\n",
    "import matplotlib.pyplot as plt"
   ]
  },
  {
   "cell_type": "code",
   "execution_count": 2,
   "metadata": {},
   "outputs": [],
   "source": [
    "from sklearn.preprocessing import LabelEncoder\n",
    "from copy import deepcopy"
   ]
  },
  {
   "cell_type": "code",
   "execution_count": 3,
   "metadata": {},
   "outputs": [],
   "source": [
    "le = LabelEncoder()"
   ]
  },
  {
   "cell_type": "code",
   "execution_count": 4,
   "metadata": {},
   "outputs": [],
   "source": [
    "df = pd.read_csv('lymph.csv')\n",
    "df = df[df != '?']\n",
    "df = df.fillna(method='bfill')\n",
    "df = df.reset_index(drop=True)\n",
    "df = df.dropna()"
   ]
  },
  {
   "cell_type": "code",
   "execution_count": 5,
   "metadata": {},
   "outputs": [
    {
     "data": {
      "text/html": [
       "<div>\n",
       "<style scoped>\n",
       "    .dataframe tbody tr th:only-of-type {\n",
       "        vertical-align: middle;\n",
       "    }\n",
       "\n",
       "    .dataframe tbody tr th {\n",
       "        vertical-align: top;\n",
       "    }\n",
       "\n",
       "    .dataframe thead th {\n",
       "        text-align: right;\n",
       "    }\n",
       "</style>\n",
       "<table border=\"1\" class=\"dataframe\">\n",
       "  <thead>\n",
       "    <tr style=\"text-align: right;\">\n",
       "      <th></th>\n",
       "      <th>'lymphatics'</th>\n",
       "      <th>'block_of_affere'</th>\n",
       "      <th>'bl_of_lymph_c'</th>\n",
       "      <th>'bl_of_lymph_s'</th>\n",
       "      <th>'by_pass'</th>\n",
       "      <th>'extravasates'</th>\n",
       "      <th>'regeneration_of'</th>\n",
       "      <th>'early_uptake_in'</th>\n",
       "      <th>'lym_nodes_dimin'</th>\n",
       "      <th>'lym_nodes_enlar'</th>\n",
       "      <th>'changes_in_lym'</th>\n",
       "      <th>'defect_in_node'</th>\n",
       "      <th>'changes_in_node'</th>\n",
       "      <th>'changes_in_stru'</th>\n",
       "      <th>'special_forms'</th>\n",
       "      <th>'dislocation_of'</th>\n",
       "      <th>'exclusion_of_no'</th>\n",
       "      <th>'no_of_nodes_in'</th>\n",
       "      <th>'class'</th>\n",
       "    </tr>\n",
       "  </thead>\n",
       "  <tbody>\n",
       "    <tr>\n",
       "      <th>143</th>\n",
       "      <td>displaced</td>\n",
       "      <td>no</td>\n",
       "      <td>no</td>\n",
       "      <td>no</td>\n",
       "      <td>no</td>\n",
       "      <td>no</td>\n",
       "      <td>no</td>\n",
       "      <td>yes</td>\n",
       "      <td>1</td>\n",
       "      <td>3</td>\n",
       "      <td>round</td>\n",
       "      <td>lacunar</td>\n",
       "      <td>lacunar</td>\n",
       "      <td>coarse</td>\n",
       "      <td>chalices</td>\n",
       "      <td>yes</td>\n",
       "      <td>yes</td>\n",
       "      <td>2</td>\n",
       "      <td>metastases</td>\n",
       "    </tr>\n",
       "    <tr>\n",
       "      <th>144</th>\n",
       "      <td>deformed</td>\n",
       "      <td>no</td>\n",
       "      <td>no</td>\n",
       "      <td>no</td>\n",
       "      <td>no</td>\n",
       "      <td>yes</td>\n",
       "      <td>no</td>\n",
       "      <td>yes</td>\n",
       "      <td>1</td>\n",
       "      <td>4</td>\n",
       "      <td>round</td>\n",
       "      <td>lac_central</td>\n",
       "      <td>lacunar</td>\n",
       "      <td>coarse</td>\n",
       "      <td>vesicles</td>\n",
       "      <td>yes</td>\n",
       "      <td>yes</td>\n",
       "      <td>6</td>\n",
       "      <td>malign_lymph</td>\n",
       "    </tr>\n",
       "    <tr>\n",
       "      <th>145</th>\n",
       "      <td>deformed</td>\n",
       "      <td>yes</td>\n",
       "      <td>no</td>\n",
       "      <td>no</td>\n",
       "      <td>yes</td>\n",
       "      <td>yes</td>\n",
       "      <td>no</td>\n",
       "      <td>yes</td>\n",
       "      <td>1</td>\n",
       "      <td>2</td>\n",
       "      <td>oval</td>\n",
       "      <td>lac_central</td>\n",
       "      <td>lac_margin</td>\n",
       "      <td>diluted</td>\n",
       "      <td>chalices</td>\n",
       "      <td>yes</td>\n",
       "      <td>yes</td>\n",
       "      <td>4</td>\n",
       "      <td>malign_lymph</td>\n",
       "    </tr>\n",
       "    <tr>\n",
       "      <th>146</th>\n",
       "      <td>deformed</td>\n",
       "      <td>yes</td>\n",
       "      <td>no</td>\n",
       "      <td>no</td>\n",
       "      <td>no</td>\n",
       "      <td>no</td>\n",
       "      <td>no</td>\n",
       "      <td>yes</td>\n",
       "      <td>1</td>\n",
       "      <td>3</td>\n",
       "      <td>oval</td>\n",
       "      <td>lacunar</td>\n",
       "      <td>lac_central</td>\n",
       "      <td>faint</td>\n",
       "      <td>vesicles</td>\n",
       "      <td>yes</td>\n",
       "      <td>yes</td>\n",
       "      <td>3</td>\n",
       "      <td>malign_lymph</td>\n",
       "    </tr>\n",
       "    <tr>\n",
       "      <th>147</th>\n",
       "      <td>arched</td>\n",
       "      <td>no</td>\n",
       "      <td>no</td>\n",
       "      <td>no</td>\n",
       "      <td>no</td>\n",
       "      <td>no</td>\n",
       "      <td>no</td>\n",
       "      <td>no</td>\n",
       "      <td>1</td>\n",
       "      <td>1</td>\n",
       "      <td>oval</td>\n",
       "      <td>lac_central</td>\n",
       "      <td>lac_margin</td>\n",
       "      <td>faint</td>\n",
       "      <td>chalices</td>\n",
       "      <td>yes</td>\n",
       "      <td>yes</td>\n",
       "      <td>2</td>\n",
       "      <td>metastases</td>\n",
       "    </tr>\n",
       "  </tbody>\n",
       "</table>\n",
       "</div>"
      ],
      "text/plain": [
       "    'lymphatics' 'block_of_affere' 'bl_of_lymph_c' 'bl_of_lymph_s' 'by_pass'  \\\n",
       "143    displaced                no              no              no        no   \n",
       "144     deformed                no              no              no        no   \n",
       "145     deformed               yes              no              no       yes   \n",
       "146     deformed               yes              no              no        no   \n",
       "147       arched                no              no              no        no   \n",
       "\n",
       "    'extravasates' 'regeneration_of' 'early_uptake_in'  'lym_nodes_dimin'  \\\n",
       "143             no                no               yes                  1   \n",
       "144            yes                no               yes                  1   \n",
       "145            yes                no               yes                  1   \n",
       "146             no                no               yes                  1   \n",
       "147             no                no                no                  1   \n",
       "\n",
       "     'lym_nodes_enlar' 'changes_in_lym' 'defect_in_node' 'changes_in_node'  \\\n",
       "143                  3            round          lacunar           lacunar   \n",
       "144                  4            round      lac_central           lacunar   \n",
       "145                  2             oval      lac_central        lac_margin   \n",
       "146                  3             oval          lacunar       lac_central   \n",
       "147                  1             oval      lac_central        lac_margin   \n",
       "\n",
       "    'changes_in_stru' 'special_forms' 'dislocation_of' 'exclusion_of_no'  \\\n",
       "143            coarse        chalices              yes               yes   \n",
       "144            coarse        vesicles              yes               yes   \n",
       "145           diluted        chalices              yes               yes   \n",
       "146             faint        vesicles              yes               yes   \n",
       "147             faint        chalices              yes               yes   \n",
       "\n",
       "     'no_of_nodes_in'       'class'  \n",
       "143                 2    metastases  \n",
       "144                 6  malign_lymph  \n",
       "145                 4  malign_lymph  \n",
       "146                 3  malign_lymph  \n",
       "147                 2    metastases  "
      ]
     },
     "execution_count": 5,
     "metadata": {},
     "output_type": "execute_result"
    }
   ],
   "source": [
    "df.tail()"
   ]
  },
  {
   "cell_type": "code",
   "execution_count": 6,
   "metadata": {},
   "outputs": [],
   "source": [
    "a_list = []"
   ]
  },
  {
   "cell_type": "code",
   "execution_count": 7,
   "metadata": {},
   "outputs": [],
   "source": [
    "for i in range(len(df)):\n",
    "    a_list.append(df.loc[i].tolist())"
   ]
  },
  {
   "cell_type": "code",
   "execution_count": 8,
   "metadata": {},
   "outputs": [],
   "source": [
    "a_list_enc = []\n",
    "temp = []"
   ]
  },
  {
   "cell_type": "code",
   "execution_count": 9,
   "metadata": {},
   "outputs": [],
   "source": [
    "def LE(tlist, num):\n",
    "    t = []\n",
    "    for i in range(len(tlist)):\n",
    "        t.append(tlist[i][num])\n",
    "    le.fit(t)\n",
    "    numpy = le.transform(t)\n",
    "    numpy.resize(len(tlist),1)\n",
    "    numpy = numpy.tolist()\n",
    "    return numpy"
   ]
  },
  {
   "cell_type": "code",
   "execution_count": 10,
   "metadata": {},
   "outputs": [],
   "source": [
    "a_list_enc = LE(a_list, 0)\n",
    "for i in range(len(a_list[0])-1):\n",
    "    temp = LE(a_list, i+1)\n",
    "    for j in range(len(a_list)):\n",
    "        a_list_enc[j].extend(temp[j])"
   ]
  },
  {
   "cell_type": "code",
   "execution_count": 11,
   "metadata": {},
   "outputs": [
    {
     "data": {
      "text/plain": [
       "[[0, 1, 0, 0, 0, 0, 0, 1, 0, 3, 2, 0, 2, 7, 2, 1, 1, 4, 1],\n",
       " [2, 1, 0, 0, 1, 1, 0, 1, 0, 2, 2, 0, 2, 1, 2, 1, 1, 2, 1],\n",
       " [1, 0, 0, 0, 1, 1, 1, 0, 2, 0, 0, 2, 3, 1, 2, 0, 0, 6, 0],\n",
       " [0, 0, 0, 0, 0, 1, 0, 1, 0, 1, 1, 1, 1, 2, 2, 0, 1, 0, 1],\n",
       " [0, 0, 0, 0, 0, 0, 0, 0, 0, 1, 2, 1, 1, 3, 2, 0, 0, 0, 2]]"
      ]
     },
     "execution_count": 11,
     "metadata": {},
     "output_type": "execute_result"
    }
   ],
   "source": [
    "a_list_enc[:5]"
   ]
  },
  {
   "cell_type": "markdown",
   "metadata": {},
   "source": [
    "################# 2번 ###############"
   ]
  },
  {
   "cell_type": "code",
   "execution_count": 12,
   "metadata": {},
   "outputs": [],
   "source": [
    "from sklearn.preprocessing import MinMaxScaler"
   ]
  },
  {
   "cell_type": "code",
   "execution_count": 13,
   "metadata": {},
   "outputs": [],
   "source": [
    "scaler = MinMaxScaler(feature_range=(0,1))"
   ]
  },
  {
   "cell_type": "code",
   "execution_count": 14,
   "metadata": {},
   "outputs": [],
   "source": [
    "a_list_enc_norm = []\n",
    "temp = []"
   ]
  },
  {
   "cell_type": "code",
   "execution_count": 15,
   "metadata": {},
   "outputs": [],
   "source": [
    "X = []###X_data\n",
    "Y = []###target_data\n",
    "for i in range(len(a_list_enc)):\n",
    "    X.append(a_list_enc[i][:-1])\n",
    "    Y.append(a_list_enc[i][-1])"
   ]
  },
  {
   "cell_type": "code",
   "execution_count": 16,
   "metadata": {},
   "outputs": [
    {
     "data": {
      "text/plain": [
       "[[0, 1, 0, 0, 0, 0, 0, 1, 0, 3, 2, 0, 2, 7, 2, 1, 1, 4],\n",
       " [2, 1, 0, 0, 1, 1, 0, 1, 0, 2, 2, 0, 2, 1, 2, 1, 1, 2],\n",
       " [1, 0, 0, 0, 1, 1, 1, 0, 2, 0, 0, 2, 3, 1, 2, 0, 0, 6],\n",
       " [0, 0, 0, 0, 0, 1, 0, 1, 0, 1, 1, 1, 1, 2, 2, 0, 1, 0],\n",
       " [0, 0, 0, 0, 0, 0, 0, 0, 0, 1, 2, 1, 1, 3, 2, 0, 0, 0]]"
      ]
     },
     "execution_count": 16,
     "metadata": {},
     "output_type": "execute_result"
    }
   ],
   "source": [
    "X[:5]"
   ]
  },
  {
   "cell_type": "code",
   "execution_count": 17,
   "metadata": {},
   "outputs": [
    {
     "data": {
      "text/plain": [
       "[1, 1, 0, 1, 2]"
      ]
     },
     "execution_count": 17,
     "metadata": {},
     "output_type": "execute_result"
    }
   ],
   "source": [
    "Y[:5]"
   ]
  },
  {
   "cell_type": "code",
   "execution_count": 18,
   "metadata": {},
   "outputs": [],
   "source": [
    "def MMS(tlist, num):\n",
    "    t = []\n",
    "    for i in range(len(tlist)):\n",
    "        t.append([tlist[i][num]])\n",
    "    scaler.fit(t)\n",
    "    numpy = scaler.transform(t)\n",
    "    numpy.resize(len(tlist),1)\n",
    "    numpy = numpy.tolist()\n",
    "    return numpy"
   ]
  },
  {
   "cell_type": "code",
   "execution_count": 19,
   "metadata": {},
   "outputs": [],
   "source": [
    "a_list_enc_norm = MMS(a_list_enc, 0)\n",
    "\n",
    "for i in range(len(X[0])-1):\n",
    "    temp = MMS(X, i+1)## 1~17열까지 계산\n",
    "    for j in range(len(X)):\n",
    "        a_list_enc_norm[j].extend(temp[j])"
   ]
  },
  {
   "cell_type": "code",
   "execution_count": 20,
   "metadata": {},
   "outputs": [],
   "source": [
    "scaled_X = deepcopy(a_list_enc_norm)\n",
    "\n",
    "for i in range(len(X)):\n",
    "    a_list_enc_norm[i].append(Y[i])"
   ]
  },
  {
   "cell_type": "code",
   "execution_count": 21,
   "metadata": {},
   "outputs": [
    {
     "name": "stdout",
     "output_type": "stream",
     "text": [
      "[[0.0, 1.0, 0.0, 0.0, 0.0, 0.0, 0.0, 1.0, 0.0, 1.0, 1.0, 0.0, 0.6666666666666666, 1.0, 1.0, 1.0, 1.0, 0.5714285714285714, 1], [0.6666666666666666, 1.0, 0.0, 0.0, 1.0, 1.0, 0.0, 1.0, 0.0, 0.6666666666666666, 1.0, 0.0, 0.6666666666666666, 0.14285714285714285, 1.0, 1.0, 1.0, 0.2857142857142857, 1], [0.3333333333333333, 0.0, 0.0, 0.0, 1.0, 1.0, 1.0, 0.0, 1.0, 0.0, 0.0, 0.6666666666666666, 1.0, 0.14285714285714285, 1.0, 0.0, 0.0, 0.8571428571428571, 0], [0.0, 0.0, 0.0, 0.0, 0.0, 1.0, 0.0, 1.0, 0.0, 0.3333333333333333, 0.5, 0.3333333333333333, 0.3333333333333333, 0.2857142857142857, 1.0, 0.0, 1.0, 0.0, 1], [0.0, 0.0, 0.0, 0.0, 0.0, 0.0, 0.0, 0.0, 0.0, 0.3333333333333333, 1.0, 0.3333333333333333, 0.3333333333333333, 0.42857142857142855, 1.0, 0.0, 0.0, 0.0, 2]]\n"
     ]
    }
   ],
   "source": [
    "print(a_list_enc_norm[:5])"
   ]
  },
  {
   "cell_type": "markdown",
   "metadata": {},
   "source": [
    "################### 3번 #################"
   ]
  },
  {
   "cell_type": "code",
   "execution_count": 22,
   "metadata": {},
   "outputs": [],
   "source": [
    "from sklearn.model_selection import train_test_split"
   ]
  },
  {
   "cell_type": "code",
   "execution_count": 23,
   "metadata": {},
   "outputs": [],
   "source": [
    "X_data = scaled_X\n",
    "Y_data = Y"
   ]
  },
  {
   "cell_type": "code",
   "execution_count": 24,
   "metadata": {},
   "outputs": [],
   "source": [
    "#X_data"
   ]
  },
  {
   "cell_type": "code",
   "execution_count": 25,
   "metadata": {},
   "outputs": [],
   "source": [
    "#Y_data"
   ]
  },
  {
   "cell_type": "code",
   "execution_count": 26,
   "metadata": {},
   "outputs": [],
   "source": [
    "X_train, X_test, Y_train, Y_test = train_test_split(X_data, Y_data, test_size=0.3, random_state=42)"
   ]
  },
  {
   "cell_type": "markdown",
   "metadata": {},
   "source": [
    "################## 4번 ################"
   ]
  },
  {
   "cell_type": "code",
   "execution_count": 27,
   "metadata": {},
   "outputs": [],
   "source": [
    "from sklearn.preprocessing import StandardScaler \n",
    "from sklearn.neural_network import MLPClassifier\n",
    "from sklearn.metrics import classification_report,confusion_matrix"
   ]
  },
  {
   "cell_type": "code",
   "execution_count": 28,
   "metadata": {},
   "outputs": [
    {
     "name": "stdout",
     "output_type": "stream",
     "text": [
      "103 45 103 45\n"
     ]
    }
   ],
   "source": [
    "print(len(X_train),len(X_test),len(Y_train),len(Y_test))"
   ]
  },
  {
   "cell_type": "code",
   "execution_count": 29,
   "metadata": {},
   "outputs": [],
   "source": [
    "def score(prediction, real):\n",
    "    sco = []\n",
    "    for i in range(len(real)):\n",
    "        if(prediction[i] == real[i]):\n",
    "            sco.append(1)\n",
    "        else:\n",
    "            sco.append(0)\n",
    "        \n",
    "        a = sum(sco)/len(real)\n",
    "    return \"%.3f\" % a"
   ]
  },
  {
   "cell_type": "markdown",
   "metadata": {},
   "source": [
    "################### 테스트 부분 시작 ####################"
   ]
  },
  {
   "cell_type": "markdown",
   "metadata": {},
   "source": [
    "KNN"
   ]
  },
  {
   "cell_type": "code",
   "execution_count": 30,
   "metadata": {},
   "outputs": [],
   "source": [
    "from sklearn.neighbors import NearestNeighbors\n",
    "from sklearn.neighbors import KNeighborsClassifier"
   ]
  },
  {
   "cell_type": "code",
   "execution_count": 31,
   "metadata": {},
   "outputs": [
    {
     "name": "stdout",
     "output_type": "stream",
     "text": [
      "0.7333333333333333\n",
      "[[0.         0.         1.         0.        ]\n",
      " [0.         0.85714286 0.14285714 0.        ]\n",
      " [0.         0.71428571 0.28571429 0.        ]\n",
      " [0.         0.         1.         0.        ]\n",
      " [0.         0.85714286 0.14285714 0.        ]\n",
      " [0.         0.85714286 0.14285714 0.        ]\n",
      " [0.         0.28571429 0.71428571 0.        ]\n",
      " [0.         0.85714286 0.14285714 0.        ]\n",
      " [0.         0.57142857 0.42857143 0.        ]\n",
      " [0.         1.         0.         0.        ]\n",
      " [0.         0.42857143 0.57142857 0.        ]\n",
      " [0.         0.28571429 0.71428571 0.        ]\n",
      " [0.         1.         0.         0.        ]\n",
      " [0.         0.57142857 0.42857143 0.        ]\n",
      " [0.         0.14285714 0.85714286 0.        ]\n",
      " [0.         0.         1.         0.        ]\n",
      " [0.         1.         0.         0.        ]\n",
      " [0.         0.71428571 0.28571429 0.        ]\n",
      " [0.         0.28571429 0.71428571 0.        ]\n",
      " [0.         0.14285714 0.85714286 0.        ]\n",
      " [0.         1.         0.         0.        ]\n",
      " [0.         0.85714286 0.14285714 0.        ]\n",
      " [0.         1.         0.         0.        ]\n",
      " [0.         0.28571429 0.71428571 0.        ]\n",
      " [0.         0.85714286 0.14285714 0.        ]\n",
      " [0.         0.57142857 0.42857143 0.        ]\n",
      " [0.         0.71428571 0.28571429 0.        ]\n",
      " [0.         0.28571429 0.71428571 0.        ]\n",
      " [0.         0.         1.         0.        ]\n",
      " [0.         0.28571429 0.71428571 0.        ]\n",
      " [0.         0.         1.         0.        ]\n",
      " [0.         0.42857143 0.57142857 0.        ]\n",
      " [0.14285714 0.         0.85714286 0.        ]\n",
      " [0.         0.28571429 0.71428571 0.        ]\n",
      " [0.         0.14285714 0.85714286 0.        ]\n",
      " [0.         0.14285714 0.85714286 0.        ]\n",
      " [0.         0.28571429 0.71428571 0.        ]\n",
      " [0.         0.71428571 0.28571429 0.        ]\n",
      " [0.         0.71428571 0.28571429 0.        ]\n",
      " [0.         1.         0.         0.        ]\n",
      " [0.         0.         1.         0.        ]\n",
      " [0.         0.14285714 0.85714286 0.        ]\n",
      " [0.         0.42857143 0.57142857 0.        ]\n",
      " [0.         0.28571429 0.71428571 0.        ]\n",
      " [0.         0.28571429 0.71428571 0.        ]]\n"
     ]
    }
   ],
   "source": [
    "clf = KNeighborsClassifier(n_neighbors=7)\n",
    "clf.fit(X_train, Y_train) \n",
    "predictions = clf.predict(X_test)\n",
    "\n",
    "print(clf.score(X_test, Y_test))\n",
    "\n",
    "pred_prob = clf.predict_proba(X_test)\n",
    "print(pred_prob)"
   ]
  },
  {
   "cell_type": "markdown",
   "metadata": {},
   "source": [
    "############## 3 - 1 ###############"
   ]
  },
  {
   "cell_type": "code",
   "execution_count": 32,
   "metadata": {},
   "outputs": [],
   "source": [
    "n_list = []\n",
    "score_list = []\n",
    "def knn(n):\n",
    "    clf = KNeighborsClassifier(n_neighbors=n)\n",
    "    clf.fit(X_train, Y_train) \n",
    "    predictions = clf.predict(X_test)\n",
    "    \n",
    "    n_list.append(n)\n",
    "    score_list.append(clf.score(X_test, Y_test))"
   ]
  },
  {
   "cell_type": "code",
   "execution_count": 33,
   "metadata": {},
   "outputs": [],
   "source": [
    "knn(1)\n",
    "knn(3)\n",
    "knn(5)\n",
    "knn(9)\n",
    "knn(15)"
   ]
  },
  {
   "cell_type": "code",
   "execution_count": 34,
   "metadata": {},
   "outputs": [
    {
     "data": {
      "text/plain": [
       "[1, 3, 5, 9, 15]"
      ]
     },
     "execution_count": 34,
     "metadata": {},
     "output_type": "execute_result"
    }
   ],
   "source": [
    "n_list"
   ]
  },
  {
   "cell_type": "code",
   "execution_count": 35,
   "metadata": {},
   "outputs": [
    {
     "data": {
      "text/plain": [
       "[0.7111111111111111,\n",
       " 0.7333333333333333,\n",
       " 0.7333333333333333,\n",
       " 0.7333333333333333,\n",
       " 0.7777777777777778]"
      ]
     },
     "execution_count": 35,
     "metadata": {},
     "output_type": "execute_result"
    }
   ],
   "source": [
    "score_list"
   ]
  },
  {
   "cell_type": "code",
   "execution_count": 36,
   "metadata": {},
   "outputs": [
    {
     "data": {
      "text/plain": [
       "Text(0.5,0,'N = ')"
      ]
     },
     "execution_count": 36,
     "metadata": {},
     "output_type": "execute_result"
    },
    {
     "data": {
      "image/png": "[encoded data removed]",
      "text/plain": [
       "<Figure size 432x288 with 1 Axes>"
      ]
     },
     "metadata": {
      "needs_background": "light"
     },
     "output_type": "display_data"
    }
   ],
   "source": [
    "plt.plot(n_list, score_list)\n",
    "plt.xlabel(\"N = \")"
   ]
  },
  {
   "cell_type": "markdown",
   "metadata": {},
   "source": [
    "AdaBoost"
   ]
  },
  {
   "cell_type": "markdown",
   "metadata": {},
   "source": [
    "################# 3 - 2 ################"
   ]
  },
  {
   "cell_type": "code",
   "execution_count": 37,
   "metadata": {},
   "outputs": [],
   "source": [
    "n_list1 = []\n",
    "score_list1 = []\n",
    "\n",
    "n_list2 = []\n",
    "score_list2 = []"
   ]
  },
  {
   "cell_type": "code",
   "execution_count": 38,
   "metadata": {},
   "outputs": [],
   "source": [
    "def knn_uniform(n):\n",
    "    clf = KNeighborsClassifier(n_neighbors=n, weights='uniform')\n",
    "    clf.fit(X_train, Y_train) \n",
    "    predictions = clf.predict(X_test)\n",
    "    \n",
    "    n_list1.append(n)\n",
    "    score_list1.append(clf.score(X_test, Y_test))"
   ]
  },
  {
   "cell_type": "code",
   "execution_count": 39,
   "metadata": {},
   "outputs": [],
   "source": [
    "def knn_distance(n):\n",
    "    clf = KNeighborsClassifier(n_neighbors=n, weights='distance')\n",
    "    clf.fit(X_train, Y_train) \n",
    "    predictions = clf.predict(X_test)\n",
    "    \n",
    "    n_list2.append(n)\n",
    "    score_list2.append(clf.score(X_test, Y_test))"
   ]
  },
  {
   "cell_type": "code",
   "execution_count": 40,
   "metadata": {},
   "outputs": [],
   "source": [
    "knn_uniform(1)\n",
    "knn_distance(1)\n",
    "knn_uniform(3)\n",
    "knn_distance(3)\n",
    "knn_uniform(5)\n",
    "knn_distance(5)\n",
    "knn_uniform(9)\n",
    "knn_distance(9)\n",
    "knn_uniform(15)\n",
    "knn_distance(15)"
   ]
  },
  {
   "cell_type": "code",
   "execution_count": 41,
   "metadata": {},
   "outputs": [
    {
     "data": {
      "text/plain": [
       "[1, 3, 5, 9, 15]"
      ]
     },
     "execution_count": 41,
     "metadata": {},
     "output_type": "execute_result"
    }
   ],
   "source": [
    "n_list1"
   ]
  },
  {
   "cell_type": "code",
   "execution_count": 42,
   "metadata": {},
   "outputs": [
    {
     "data": {
      "text/plain": [
       "Text(0.5,0,'N = ')"
      ]
     },
     "execution_count": 42,
     "metadata": {},
     "output_type": "execute_result"
    },
    {
     "data": {
      "image/png": "[encoded data removed]",
      "text/plain": [
       "<Figure size 432x288 with 1 Axes>"
      ]
     },
     "metadata": {
      "needs_background": "light"
     },
     "output_type": "display_data"
    }
   ],
   "source": [
    "plt.plot(n_list1, score_list1)\n",
    "plt.plot(n_list2, score_list2)\n",
    "plt.xlabel(\"N = \")"
   ]
  },
  {
   "cell_type": "markdown",
   "metadata": {},
   "source": [
    "weights를 바꾸어도 결과가 같습니다.(동일한 결과라 한 그래프로 보입니다.)\n",
    "균일한 가중치와 거리에 따른 가중치가 결과에 영향을 미치지 못 했습니다."
   ]
  },
  {
   "cell_type": "markdown",
   "metadata": {},
   "source": [
    "################# 3 - 3 ################"
   ]
  },
  {
   "cell_type": "code",
   "execution_count": 43,
   "metadata": {},
   "outputs": [],
   "source": [
    "n_list1 = []\n",
    "knn_score_list1 = []\n",
    "\n",
    "n_list2 = []\n",
    "knn_score_list2 = []\n",
    "\n",
    "def knn_p1(n):\n",
    "    clf = KNeighborsClassifier(n_neighbors=n, p=1)\n",
    "    clf.fit(X_train, Y_train) \n",
    "    predictions = clf.predict(X_test)\n",
    "    \n",
    "    n_list1.append(n)\n",
    "    knn_score_list1.append(clf.score(X_test, Y_test))\n",
    "    \n",
    "def knn_p2(n):\n",
    "    clf = KNeighborsClassifier(n_neighbors=n, p=2)\n",
    "    clf.fit(X_train, Y_train) \n",
    "    predictions = clf.predict(X_test)\n",
    "    \n",
    "    n_list2.append(n)\n",
    "    knn_score_list2.append(clf.score(X_test, Y_test))"
   ]
  },
  {
   "cell_type": "code",
   "execution_count": 44,
   "metadata": {},
   "outputs": [],
   "source": [
    "knn_p1(1)\n",
    "knn_p2(1)\n",
    "\n",
    "knn_p1(3)\n",
    "knn_p2(3)\n",
    "\n",
    "knn_p1(5)\n",
    "knn_p2(5)\n",
    "\n",
    "knn_p1(9)\n",
    "knn_p2(9)\n",
    "\n",
    "knn_p1(15)\n",
    "knn_p2(15)"
   ]
  },
  {
   "cell_type": "code",
   "execution_count": 45,
   "metadata": {
    "scrolled": true
   },
   "outputs": [
    {
     "data": {
      "text/plain": [
       "[0.7333333333333333, 0.8, 0.8, 0.8, 0.8]"
      ]
     },
     "execution_count": 45,
     "metadata": {},
     "output_type": "execute_result"
    }
   ],
   "source": [
    "knn_score_list1#### p=1"
   ]
  },
  {
   "cell_type": "code",
   "execution_count": 46,
   "metadata": {},
   "outputs": [
    {
     "data": {
      "text/plain": [
       "[0.7111111111111111,\n",
       " 0.7333333333333333,\n",
       " 0.7333333333333333,\n",
       " 0.7333333333333333,\n",
       " 0.7777777777777778]"
      ]
     },
     "execution_count": 46,
     "metadata": {},
     "output_type": "execute_result"
    }
   ],
   "source": [
    "knn_score_list2#### p=2"
   ]
  },
  {
   "cell_type": "code",
   "execution_count": 47,
   "metadata": {
    "scrolled": true
   },
   "outputs": [
    {
     "data": {
      "text/plain": [
       "Text(0.5,0,'N = ')"
      ]
     },
     "execution_count": 47,
     "metadata": {},
     "output_type": "execute_result"
    },
    {
     "data": {
      "image/png": "[encoded data removed]",
      "text/plain": [
       "<Figure size 432x288 with 1 Axes>"
      ]
     },
     "metadata": {
      "needs_background": "light"
     },
     "output_type": "display_data"
    }
   ],
   "source": [
    "plt.plot(n_list1, knn_score_list1, c='r')\n",
    "plt.plot(n_list2, knn_score_list2, c='b')\n",
    "plt.xlabel(\"N = \")"
   ]
  },
  {
   "cell_type": "markdown",
   "metadata": {},
   "source": [
    "p=1인 경우에 전체적인 결과가 더 좋게 나타납니다."
   ]
  },
  {
   "cell_type": "markdown",
   "metadata": {},
   "source": [
    "Manhattan Distance를 사용했을 때 단순한 직선거리보다 결과가 좋게 나왔습니다."
   ]
  },
  {
   "cell_type": "markdown",
   "metadata": {},
   "source": [
    "################# 3 - 4 ################"
   ]
  },
  {
   "cell_type": "code",
   "execution_count": 48,
   "metadata": {},
   "outputs": [
    {
     "data": {
      "text/plain": [
       "(array([[1.33715439]]), array([[80]], dtype=int64))"
      ]
     },
     "execution_count": 48,
     "metadata": {},
     "output_type": "execute_result"
    }
   ],
   "source": [
    "clf = NearestNeighbors(n_neighbors=1)\n",
    "clf.fit(X_train) \n",
    "clf.kneighbors([X_test[1]])"
   ]
  },
  {
   "cell_type": "markdown",
   "metadata": {},
   "source": [
    "Adaboost"
   ]
  },
  {
   "cell_type": "code",
   "execution_count": 49,
   "metadata": {},
   "outputs": [],
   "source": [
    "from sklearn.ensemble import AdaBoostClassifier"
   ]
  },
  {
   "cell_type": "code",
   "execution_count": 50,
   "metadata": {},
   "outputs": [
    {
     "data": {
      "text/plain": [
       "0.6"
      ]
     },
     "execution_count": 50,
     "metadata": {},
     "output_type": "execute_result"
    }
   ],
   "source": [
    "clf = AdaBoostClassifier()\n",
    "clf.fit(X_train, Y_train) \n",
    "predictions = clf.predict(X_test)\n",
    "\n",
    "clf.score(X_test, Y_test)"
   ]
  },
  {
   "cell_type": "code",
   "execution_count": 51,
   "metadata": {
    "scrolled": true
   },
   "outputs": [
    {
     "name": "stdout",
     "output_type": "stream",
     "text": [
      "[[8.55449072e-12 4.92080062e-01 5.07919938e-01 1.92778055e-11]\n",
      " [9.99963590e-01 1.83260020e-05 1.80844968e-05 3.84501047e-13]\n",
      " [8.69427630e-12 5.03316422e-01 4.96683578e-01 9.95286627e-12]\n",
      " [8.55449072e-12 4.92080062e-01 5.07919938e-01 1.92778055e-11]\n",
      " [8.55449072e-12 4.92080062e-01 5.07919938e-01 1.92778055e-11]\n",
      " [8.69427630e-12 5.03316422e-01 4.96683578e-01 9.95286627e-12]\n",
      " [8.55449072e-12 4.92080062e-01 5.07919938e-01 1.92778055e-11]\n",
      " [8.69427630e-12 5.03316422e-01 4.96683578e-01 9.95286627e-12]\n",
      " [8.55449072e-12 4.92080062e-01 5.07919938e-01 1.92778055e-11]\n",
      " [8.69427630e-12 5.03316422e-01 4.96683578e-01 9.95286627e-12]]\n"
     ]
    }
   ],
   "source": [
    "pred_prob = clf.predict_proba(X_test)\n",
    "print(pred_prob[:10])"
   ]
  },
  {
   "cell_type": "markdown",
   "metadata": {},
   "source": [
    "################# 4 - 1 ################"
   ]
  },
  {
   "cell_type": "code",
   "execution_count": 52,
   "metadata": {},
   "outputs": [],
   "source": [
    "n_list = []\n",
    "ada_score_list = []\n",
    "def adaboost(n):\n",
    "    clf = AdaBoostClassifier(n_estimators=n)\n",
    "    clf.fit(X_train, Y_train) \n",
    "    n_list.append(n)\n",
    "    ada_score_list.append(clf.score(X_test, Y_test))"
   ]
  },
  {
   "cell_type": "code",
   "execution_count": 53,
   "metadata": {},
   "outputs": [],
   "source": [
    "adaboost(3)\n",
    "adaboost(7)\n",
    "adaboost(10)\n",
    "adaboost(50)\n",
    "adaboost(100)"
   ]
  },
  {
   "cell_type": "code",
   "execution_count": 54,
   "metadata": {},
   "outputs": [
    {
     "data": {
      "text/plain": [
       "Text(0,0.5,'accuracy')"
      ]
     },
     "execution_count": 54,
     "metadata": {},
     "output_type": "execute_result"
    },
    {
     "data": {
      "image/png": "[encoded data removed]",
      "text/plain": [
       "<Figure size 432x288 with 1 Axes>"
      ]
     },
     "metadata": {
      "needs_background": "light"
     },
     "output_type": "display_data"
    }
   ],
   "source": [
    "plt.plot(n_list, ada_score_list)\n",
    "plt.xlabel(\"N = \")\n",
    "plt.ylabel(\"accuracy\")"
   ]
  },
  {
   "cell_type": "markdown",
   "metadata": {},
   "source": [
    "n_estimators 값은 약 분류기의 갯수를 뜻합니다. 하지만 위의 자료에서는 결과에 변화가 없는 것으로 나타났습니다."
   ]
  },
  {
   "cell_type": "markdown",
   "metadata": {},
   "source": [
    "################# 4 - 2 ################"
   ]
  },
  {
   "cell_type": "code",
   "execution_count": 55,
   "metadata": {},
   "outputs": [
    {
     "data": {
      "text/plain": [
       "[0.7333333333333333, 0.8, 0.8, 0.8, 0.8]"
      ]
     },
     "execution_count": 55,
     "metadata": {},
     "output_type": "execute_result"
    }
   ],
   "source": [
    "knn_score_list1 # knn p=1 classifier"
   ]
  },
  {
   "cell_type": "code",
   "execution_count": 56,
   "metadata": {},
   "outputs": [
    {
     "data": {
      "text/plain": [
       "Text(0.5,0,'Number of attempts')"
      ]
     },
     "execution_count": 56,
     "metadata": {},
     "output_type": "execute_result"
    },
    {
     "data": {
      "image/png": "[encoded data removed]",
      "text/plain": [
       "<Figure size 432x288 with 1 Axes>"
      ]
     },
     "metadata": {
      "needs_background": "light"
     },
     "output_type": "display_data"
    }
   ],
   "source": [
    "plt.plot(ada_score_list, c='r')#빨간색\n",
    "plt.plot(knn_score_list1, c='b')#파란색\n",
    "n = [0,1,2,3,4]\n",
    "plt.xticks(n)\n",
    "plt.xlabel(\"Number of attempts\")"
   ]
  },
  {
   "cell_type": "markdown",
   "metadata": {},
   "source": [
    "knn 분류기가 위 데이터셋에서 더 뛰어난 것으로 확인됩니다."
   ]
  },
  {
   "cell_type": "markdown",
   "metadata": {},
   "source": [
    "Random Forest"
   ]
  },
  {
   "cell_type": "code",
   "execution_count": 57,
   "metadata": {},
   "outputs": [],
   "source": [
    "from sklearn.ensemble import RandomForestClassifier"
   ]
  },
  {
   "cell_type": "code",
   "execution_count": 93,
   "metadata": {},
   "outputs": [
    {
     "data": {
      "text/plain": [
       "0.8444444444444444"
      ]
     },
     "execution_count": 93,
     "metadata": {},
     "output_type": "execute_result"
    }
   ],
   "source": [
    "clf = RandomForestClassifier(n_estimators=100, max_depth=2, random_state=0)\n",
    "clf.fit(X_train, Y_train)\n",
    "predictions = clf.predict(X_test)\n",
    "\n",
    "clf.score(X_test, Y_test)\n"
   ]
  },
  {
   "cell_type": "code",
   "execution_count": 94,
   "metadata": {},
   "outputs": [
    {
     "name": "stdout",
     "output_type": "stream",
     "text": [
      "RandomForestClassifier(bootstrap=True, class_weight=None, criterion='gini',\n",
      "            max_depth=2, max_features='auto', max_leaf_nodes=None,\n",
      "            min_impurity_decrease=0.0, min_impurity_split=None,\n",
      "            min_samples_leaf=1, min_samples_split=2,\n",
      "            min_weight_fraction_leaf=0.0, n_estimators=100, n_jobs=None,\n",
      "            oob_score=False, random_state=0, verbose=0, warm_start=False)\n"
     ]
    }
   ],
   "source": [
    "print(clf)"
   ]
  },
  {
   "cell_type": "markdown",
   "metadata": {},
   "source": [
    "################## 5 - 1 ################## "
   ]
  },
  {
   "cell_type": "code",
   "execution_count": 73,
   "metadata": {},
   "outputs": [],
   "source": [
    "n_list = []\n",
    "RF_score_list = []\n",
    "def RF(n):\n",
    "    clf = RandomForestClassifier(n_estimators=n, max_depth=2, random_state=0)\n",
    "    clf.fit(X_train, Y_train)\n",
    "    n_list.append(n)\n",
    "    RF_score_list.append(clf.score(X_test, Y_test))"
   ]
  },
  {
   "cell_type": "code",
   "execution_count": 70,
   "metadata": {},
   "outputs": [],
   "source": [
    "RF(5)\n",
    "RF(10)\n",
    "RF(50)\n",
    "RF(100)\n",
    "RF(300)"
   ]
  },
  {
   "cell_type": "code",
   "execution_count": 71,
   "metadata": {},
   "outputs": [
    {
     "data": {
      "text/plain": [
       "[0.7777777777777778,\n",
       " 0.7777777777777778,\n",
       " 0.8444444444444444,\n",
       " 0.8444444444444444,\n",
       " 0.8222222222222222]"
      ]
     },
     "execution_count": 71,
     "metadata": {},
     "output_type": "execute_result"
    }
   ],
   "source": [
    "RF_score_list"
   ]
  },
  {
   "cell_type": "code",
   "execution_count": 72,
   "metadata": {},
   "outputs": [
    {
     "name": "stderr",
     "output_type": "stream",
     "text": [
      "C:\\Users\\tjdwo\\Anaconda3\\envs\\tf1.8\\lib\\site-packages\\matplotlib\\cbook\\deprecation.py:107: MatplotlibDeprecationWarning: Adding an axes using the same arguments as a previous axes currently reuses the earlier instance.  In a future version, a new instance will always be created and returned.  Meanwhile, this warning can be suppressed, and the future behavior ensured, by passing a unique label to each axes instance.\n",
      "  warnings.warn(message, mplDeprecation, stacklevel=1)\n"
     ]
    },
    {
     "data": {
      "text/plain": [
       "[(0.6, 1)]"
      ]
     },
     "execution_count": 72,
     "metadata": {},
     "output_type": "execute_result"
    },
    {
     "data": {
      "image/png": "[encoded data removed]",
      "text/plain": [
       "<Figure size 432x288 with 1 Axes>"
      ]
     },
     "metadata": {
      "needs_background": "light"
     },
     "output_type": "display_data"
    }
   ],
   "source": [
    "plt.plot(n_list, RF_score_list)\n",
    "plt.subplot().set(ylim=[0.6,1])"
   ]
  },
  {
   "cell_type": "markdown",
   "metadata": {},
   "source": [
    "n_estimators 는 약 분류기의 갯수를 말합니다. 여기서는 random forest 내부의 약한 decision tree의 갯수를 말합니다.\n",
    "너무 낮으면 정확도가 떨어지는 경향이 있습니다."
   ]
  },
  {
   "cell_type": "markdown",
   "metadata": {},
   "source": [
    "################## 5 - 2 ################## "
   ]
  },
  {
   "cell_type": "code",
   "execution_count": 63,
   "metadata": {},
   "outputs": [
    {
     "data": {
      "text/plain": [
       "0.8444444444444444"
      ]
     },
     "execution_count": 63,
     "metadata": {},
     "output_type": "execute_result"
    }
   ],
   "source": [
    "clf = RandomForestClassifier(n_estimators=100, max_depth=2, random_state=0, oob_score=True)\n",
    "clf.fit(X_train, Y_train)\n",
    "predictions = clf.predict(X_test)\n",
    "\n",
    "clf.score(X_test, Y_test)"
   ]
  },
  {
   "cell_type": "code",
   "execution_count": 64,
   "metadata": {},
   "outputs": [
    {
     "data": {
      "text/plain": [
       "0.8444444444444444"
      ]
     },
     "execution_count": 64,
     "metadata": {},
     "output_type": "execute_result"
    }
   ],
   "source": [
    "clf = RandomForestClassifier(n_estimators=100, max_depth=2, random_state=0, oob_score=False)\n",
    "clf.fit(X_train, Y_train)\n",
    "predictions = clf.predict(X_test)\n",
    "\n",
    "clf.score(X_test, Y_test)"
   ]
  },
  {
   "cell_type": "markdown",
   "metadata": {},
   "source": [
    "oob_score는 트리들을 훈련시킨 후에 bootstraping 한 데이터들과 비교해 특정 값을 포함하지 않는 값들을 따로 모아둔 후에 랜덤포레스트로 학습을 시킨 점수입니다."
   ]
  },
  {
   "cell_type": "markdown",
   "metadata": {},
   "source": [
    "################## 5 - 3 ################## "
   ]
  },
  {
   "cell_type": "code",
   "execution_count": 65,
   "metadata": {},
   "outputs": [
    {
     "data": {
      "text/plain": [
       "0.8444444444444444"
      ]
     },
     "execution_count": 65,
     "metadata": {},
     "output_type": "execute_result"
    }
   ],
   "source": [
    "clf = RandomForestClassifier(n_estimators=100, max_depth=2, random_state=0, oob_score=True)\n",
    "clf.fit(X_train, Y_train)\n",
    "predictions = clf.predict(X_test)\n",
    "\n",
    "clf.score(X_test, Y_test)"
   ]
  },
  {
   "cell_type": "code",
   "execution_count": 66,
   "metadata": {},
   "outputs": [
    {
     "name": "stdout",
     "output_type": "stream",
     "text": [
      "auto 0.8444444444444444\n",
      "sqrt 0.8444444444444444\n",
      "log2 0.8444444444444444\n",
      "15 0.8666666666666667\n"
     ]
    }
   ],
   "source": [
    "for op in [\"auto\", \"sqrt\", \"log2\", 15]:\n",
    "    clf = RandomForestClassifier(n_estimators=100, max_depth=2, random_state=0, oob_score=True, max_features=op)\n",
    "    clf.fit(X_train, Y_train)\n",
    "    predictions = clf.predict(X_test)\n",
    "\n",
    "    print(op, clf.score(X_test, Y_test))"
   ]
  },
  {
   "cell_type": "markdown",
   "metadata": {},
   "source": [
    "max_feature 는 각 트리별로 몇개의 attributes를 선택할 지를 결정합니다. auto, sqrt, log2 등은 속성을 몇 개 선택 할 지를 결정하는 수식입니다.\n",
    "max_feature는 숫자로도 입력할 수 있으며 숫자가 커지면 과적합을 예방할 가능성이 있습니다. 최대값은 속성의 갯수입니다."
   ]
  },
  {
   "cell_type": "markdown",
   "metadata": {},
   "source": [
    "5 - 4"
   ]
  },
  {
   "cell_type": "code",
   "execution_count": 67,
   "metadata": {},
   "outputs": [
    {
     "data": {
      "text/plain": [
       "Text(0.5,0,'Number of attempts')"
      ]
     },
     "execution_count": 67,
     "metadata": {},
     "output_type": "execute_result"
    },
    {
     "data": {
      "image/png": "[encoded data removed]",
      "text/plain": [
       "<Figure size 432x288 with 1 Axes>"
      ]
     },
     "metadata": {
      "needs_background": "light"
     },
     "output_type": "display_data"
    }
   ],
   "source": [
    "plt.plot(ada_score_list, c='red')\n",
    "plt.plot(knn_score_list1, c='blue')\n",
    "plt.plot(RF_score_list, c='black')\n",
    "n = [0,1,2,3,4]\n",
    "plt.xticks(n)\n",
    "plt.xlabel(\"Number of attempts\")"
   ]
  },
  {
   "cell_type": "markdown",
   "metadata": {},
   "source": [
    "최고 성능과 전체적인 성능 모두 Random Forest가 가장 좋습니다."
   ]
  },
  {
   "cell_type": "markdown",
   "metadata": {},
   "source": [
    "SVM"
   ]
  },
  {
   "cell_type": "code",
   "execution_count": 68,
   "metadata": {},
   "outputs": [],
   "source": [
    "from sklearn import svm"
   ]
  },
  {
   "cell_type": "code",
   "execution_count": 69,
   "metadata": {},
   "outputs": [
    {
     "name": "stderr",
     "output_type": "stream",
     "text": [
      "C:\\Users\\tjdwo\\Anaconda3\\envs\\tf1.8\\lib\\site-packages\\sklearn\\svm\\base.py:196: FutureWarning: The default value of gamma will change from 'auto' to 'scale' in version 0.22 to account better for unscaled features. Set gamma explicitly to 'auto' or 'scale' to avoid this warning.\n",
      "  \"avoid this warning.\", FutureWarning)\n"
     ]
    },
    {
     "data": {
      "text/plain": [
       "0.8"
      ]
     },
     "execution_count": 69,
     "metadata": {},
     "output_type": "execute_result"
    }
   ],
   "source": [
    "clf = svm.SVC()\n",
    "clf.fit(X_train, Y_train)\n",
    "predictions = clf.predict(X_test)\n",
    "\n",
    "clf.score(X_test, Y_test)"
   ]
  },
  {
   "cell_type": "markdown",
   "metadata": {},
   "source": [
    "5 - 1"
   ]
  },
  {
   "cell_type": "code",
   "execution_count": 70,
   "metadata": {},
   "outputs": [
    {
     "name": "stdout",
     "output_type": "stream",
     "text": [
      "linear 0.7333333333333333\n",
      "poly 0.5555555555555556\n",
      "rbf 0.8\n",
      "sigmoid 0.7777777777777778\n"
     ]
    },
    {
     "name": "stderr",
     "output_type": "stream",
     "text": [
      "C:\\Users\\tjdwo\\Anaconda3\\envs\\tf1.8\\lib\\site-packages\\sklearn\\svm\\base.py:196: FutureWarning: The default value of gamma will change from 'auto' to 'scale' in version 0.22 to account better for unscaled features. Set gamma explicitly to 'auto' or 'scale' to avoid this warning.\n",
      "  \"avoid this warning.\", FutureWarning)\n",
      "C:\\Users\\tjdwo\\Anaconda3\\envs\\tf1.8\\lib\\site-packages\\sklearn\\svm\\base.py:196: FutureWarning: The default value of gamma will change from 'auto' to 'scale' in version 0.22 to account better for unscaled features. Set gamma explicitly to 'auto' or 'scale' to avoid this warning.\n",
      "  \"avoid this warning.\", FutureWarning)\n",
      "C:\\Users\\tjdwo\\Anaconda3\\envs\\tf1.8\\lib\\site-packages\\sklearn\\svm\\base.py:196: FutureWarning: The default value of gamma will change from 'auto' to 'scale' in version 0.22 to account better for unscaled features. Set gamma explicitly to 'auto' or 'scale' to avoid this warning.\n",
      "  \"avoid this warning.\", FutureWarning)\n"
     ]
    }
   ],
   "source": [
    "svc_score_list = []\n",
    "for op in ['linear', 'poly', 'rbf', 'sigmoid']:\n",
    "    clf = svm.SVC(kernel=op)\n",
    "    clf.fit(X_train, Y_train)\n",
    "    svc_score_list.append(clf.score(X_test, Y_test))\n",
    "    print(op, clf.score(X_test, Y_test))"
   ]
  },
  {
   "cell_type": "markdown",
   "metadata": {},
   "source": [
    "rbf Kernel이 가장 좋은 결과를 나타냅니다."
   ]
  },
  {
   "cell_type": "code",
   "execution_count": 71,
   "metadata": {},
   "outputs": [
    {
     "data": {
      "text/plain": [
       "Text(0.5,0,'Number of attempts')"
      ]
     },
     "execution_count": 71,
     "metadata": {},
     "output_type": "execute_result"
    },
    {
     "data": {
      "image/png": "[encoded data removed]",
      "text/plain": [
       "<Figure size 432x288 with 1 Axes>"
      ]
     },
     "metadata": {
      "needs_background": "light"
     },
     "output_type": "display_data"
    }
   ],
   "source": [
    "plt.plot(ada_score_list, c='red')\n",
    "plt.plot(knn_score_list1, c='blue')\n",
    "plt.plot(RF_score_list, c='black')\n",
    "plt.plot(svc_score_list, c='cyan')# V자 모양 그래프\n",
    "n = [0,1,2,3,4]\n",
    "plt.xticks(n)\n",
    "plt.xlabel(\"Number of attempts\")"
   ]
  },
  {
   "cell_type": "markdown",
   "metadata": {},
   "source": [
    "해당 데이터 셋에서는 Random Forest > knn > svm > adaboost 순으로 성능이 좋습니다."
   ]
  },
  {
   "cell_type": "code",
   "execution_count": null,
   "metadata": {},
   "outputs": [],
   "source": []
  }
 ],
 "metadata": {
  "kernelspec": {
   "display_name": "Python [conda env:tf1.8]",
   "language": "python",
   "name": "conda-env-tf1.8-py"
  },
  "language_info": {
   "codemirror_mode": {
    "name": "ipython",
    "version": 3
   },
   "file_extension": ".py",
   "mimetype": "text/x-python",
   "name": "python",
   "nbconvert_exporter": "python",
   "pygments_lexer": "ipython3",
   "version": "3.5.6"
  }
 },
 "nbformat": 4,
 "nbformat_minor": 2
}
