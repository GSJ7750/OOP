{
 "cells": [
  {
   "cell_type": "code",
   "execution_count": 1,
   "metadata": {},
   "outputs": [
    {
     "name": "stderr",
     "output_type": "stream",
     "text": [
      "C:\\Users\\tjdwo\\Anaconda3\\envs\\tf1.8\\lib\\site-packages\\torchvision\\datasets\\mnist.py:53: UserWarning: train_data has been renamed data\n",
      "  warnings.warn(\"train_data has been renamed data\")\n"
     ]
    },
    {
     "name": "stdout",
     "output_type": "stream",
     "text": [
      "torch.Size([60000, 28, 28])\n"
     ]
    },
    {
     "name": "stderr",
     "output_type": "stream",
     "text": [
      "C:\\Users\\tjdwo\\Anaconda3\\envs\\tf1.8\\lib\\site-packages\\torchvision\\datasets\\mnist.py:43: UserWarning: train_labels has been renamed targets\n",
      "  warnings.warn(\"train_labels has been renamed targets\")\n"
     ]
    },
    {
     "name": "stdout",
     "output_type": "stream",
     "text": [
      "torch.Size([60000])\n"
     ]
    },
    {
     "data": {
      "text/plain": [
       "<Figure size 640x480 with 1 Axes>"
      ]
     },
     "metadata": {},
     "output_type": "display_data"
    },
    {
     "name": "stderr",
     "output_type": "stream",
     "text": [
      "C:\\Users\\tjdwo\\Anaconda3\\envs\\tf1.8\\lib\\site-packages\\torchvision\\datasets\\mnist.py:58: UserWarning: test_data has been renamed data\n",
      "  warnings.warn(\"test_data has been renamed data\")\n",
      "C:\\Users\\tjdwo\\Anaconda3\\envs\\tf1.8\\lib\\site-packages\\ipykernel\\__main__.py:39: UserWarning: volatile was removed and now has no effect. Use `with torch.no_grad():` instead.\n",
      "C:\\Users\\tjdwo\\Anaconda3\\envs\\tf1.8\\lib\\site-packages\\torchvision\\datasets\\mnist.py:48: UserWarning: test_labels has been renamed targets\n",
      "  warnings.warn(\"test_labels has been renamed targets\")\n"
     ]
    }
   ],
   "source": [
    "import torch\n",
    "from torch import nn\n",
    "from torch.autograd import Variable\n",
    "import torchvision.datasets as dsets\n",
    "import torchvision.transforms as transforms\n",
    "import matplotlib.pyplot as plt\n",
    "\n",
    "torch.manual_seed(1)    # reproducible\n",
    "\n",
    "# Hyper Parameters\n",
    "EPOCH = 1               # train the training data n times, to save time, we just train 1 epoch\n",
    "BATCH_SIZE = 64\n",
    "TIME_STEP = 28          # rnn time step / image height\n",
    "INPUT_SIZE = 28         # rnn input size / image width\n",
    "LR = 0.01               # learning rate\n",
    "DOWNLOAD_MNIST = True   # set to True if haven't download the data\n",
    "\n",
    "# Mnist digital dataset\n",
    "train_data = dsets.MNIST(\n",
    "    root='./mnist/',\n",
    "    train=True,                         # this is training data\n",
    "    transform=transforms.ToTensor(),    # Converts a PIL.Image or numpy.ndarray to\n",
    "                                        # torch.FloatTensor of shape (C x H x W) and normalize in the range [0.0, 1.0]\n",
    "    download=DOWNLOAD_MNIST,            # download it if you don't have it\n",
    ")\n",
    "\n",
    "# plot one example\n",
    "print(train_data.train_data.size())     # (60000, 28, 28)\n",
    "print(train_data.train_labels.size())   # (60000)\n",
    "plt.imshow(train_data.train_data[0].numpy(), cmap='gray')\n",
    "plt.title('%i' % train_data.train_labels[0])\n",
    "plt.show()\n",
    "\n",
    "# Data Loader for easy mini-batch return in training\n",
    "train_loader = torch.utils.data.DataLoader(dataset=train_data, batch_size=BATCH_SIZE, shuffle=True)\n",
    "\n",
    "# convert test data into Variable, pick 2000 samples to speed up testing\n",
    "test_data = dsets.MNIST(root='./mnist/', train=False, transform=transforms.ToTensor())\n",
    "test_x = Variable(test_data.test_data, volatile=True).type(torch.FloatTensor)[:2000]/255.   # shape (2000, 28, 28) value in range(0,1)\n",
    "test_y = test_data.test_labels.numpy().squeeze()[:2000]    # covert to numpy array\n",
    "\n",
    "acc_hidden64 = []\n",
    "acc_hidden128 = []\n"
   ]
  },
  {
   "cell_type": "markdown",
   "metadata": {},
   "source": [
    "# 3-2 change hidden nodes"
   ]
  },
  {
   "cell_type": "code",
   "execution_count": 2,
   "metadata": {},
   "outputs": [
    {
     "name": "stdout",
     "output_type": "stream",
     "text": [
      "RNN(\n",
      "  (rnn): LSTM(28, 64, batch_first=True)\n",
      "  (out): Linear(in_features=64, out_features=10, bias=True)\n",
      ")\n",
      "Epoch:  0 | train loss: 2.2883 | test accuracy: 0.10\n",
      "Epoch:  0 | train loss: 0.8128 | test accuracy: 0.60\n",
      "Epoch:  0 | train loss: 0.9328 | test accuracy: 0.74\n",
      "Epoch:  0 | train loss: 0.8865 | test accuracy: 0.78\n",
      "Epoch:  0 | train loss: 0.2789 | test accuracy: 0.87\n",
      "Epoch:  0 | train loss: 0.2639 | test accuracy: 0.87\n",
      "Epoch:  0 | train loss: 0.3271 | test accuracy: 0.91\n",
      "Epoch:  0 | train loss: 0.4145 | test accuracy: 0.93\n",
      "Epoch:  0 | train loss: 0.1252 | test accuracy: 0.93\n",
      "Epoch:  0 | train loss: 0.3034 | test accuracy: 0.91\n",
      "Epoch:  0 | train loss: 0.0502 | test accuracy: 0.91\n",
      "Epoch:  0 | train loss: 0.2650 | test accuracy: 0.94\n",
      "Epoch:  0 | train loss: 0.0322 | test accuracy: 0.95\n",
      "Epoch:  0 | train loss: 0.1711 | test accuracy: 0.95\n",
      "Epoch:  0 | train loss: 0.2042 | test accuracy: 0.95\n",
      "Epoch:  0 | train loss: 0.1331 | test accuracy: 0.94\n",
      "Epoch:  0 | train loss: 0.0755 | test accuracy: 0.95\n",
      "Epoch:  0 | train loss: 0.1991 | test accuracy: 0.95\n",
      "Epoch:  0 | train loss: 0.3084 | test accuracy: 0.95\n"
     ]
    }
   ],
   "source": [
    "hidden = 64\n",
    "class RNN(nn.Module):\n",
    "    def __init__(self):\n",
    "        super(RNN, self).__init__()\n",
    "\n",
    "        self.rnn = nn.LSTM(         # if use nn.RNN(), it hardly learns\n",
    "            input_size=INPUT_SIZE,\n",
    "            hidden_size=hidden,         # rnn hidden unit\n",
    "            num_layers=1,           # number of rnn layer\n",
    "            batch_first=True,       # input & output will has batch size as 1s dimension. e.g. (batch, time_step, input_size)\n",
    "        )\n",
    "\n",
    "        self.out = nn.Linear(hidden, 10)\n",
    "\n",
    "    def forward(self, x):\n",
    "        # x shape (batch, time_step, input_size)\n",
    "        # r_out shape (batch, time_step, output_size)\n",
    "        # h_n shape (n_layers, batch, hidden_size)\n",
    "        # h_c shape (n_layers, batch, hidden_size)\n",
    "        r_out, (h_n, h_c) = self.rnn(x, None)   # None represents zero initial hidden state\n",
    "\n",
    "        # choose r_out at the last time step\n",
    "        out = self.out(r_out[:, -1, :])\n",
    "        return out\n",
    "\n",
    "rnn = RNN()\n",
    "print(rnn)\n",
    "\n",
    "optimizer = torch.optim.Adam(rnn.parameters(), lr=LR)   # optimize all cnn parameters\n",
    "loss_func = nn.CrossEntropyLoss()                       # the target label is not one-hotted\n",
    "\n",
    "# training and testing\n",
    "for epoch in range(EPOCH):\n",
    "    for step, (x, y) in enumerate(train_loader):        # gives batch data\n",
    "        b_x = Variable(x.view(-1, 28, 28))              # reshape x to (batch, time_step, input_size)\n",
    "        b_y = Variable(y)                               # batch y\n",
    "\n",
    "        output = rnn(b_x)                               # rnn output\n",
    "        loss = loss_func(output, b_y)                   # cross entropy loss\n",
    "        optimizer.zero_grad()                           # clear gradients for this training step\n",
    "        loss.backward()                                 # backpropagation, compute gradients\n",
    "        optimizer.step()                                # apply gradients\n",
    "\n",
    "        if step % 50 == 0:\n",
    "            test_output = rnn(test_x)                   # (samples, time_step, input_size)\n",
    "            pred_y = torch.max(test_output, 1)[1].data.numpy().squeeze()\n",
    "            accuracy = sum(pred_y == test_y) / float(test_y.size)\n",
    "            print('Epoch: ', epoch, '| train loss: %.4f' % loss.data, '| test accuracy: %.2f' % accuracy)\n",
    "            acc_hidden64.append(accuracy)"
   ]
  },
  {
   "cell_type": "code",
   "execution_count": 3,
   "metadata": {},
   "outputs": [
    {
     "name": "stdout",
     "output_type": "stream",
     "text": [
      "0.9535\n"
     ]
    },
    {
     "data": {
      "image/png": "[encoded data removed]",
      "text/plain": [
       "<Figure size 432x288 with 1 Axes>"
      ]
     },
     "metadata": {
      "needs_background": "light"
     },
     "output_type": "display_data"
    }
   ],
   "source": [
    "plt.plot(acc_hidden64)\n",
    "print(max(acc_hidden64))"
   ]
  },
  {
   "cell_type": "code",
   "execution_count": 4,
   "metadata": {},
   "outputs": [
    {
     "name": "stdout",
     "output_type": "stream",
     "text": [
      "RNN(\n",
      "  (rnn): LSTM(28, 128, batch_first=True)\n",
      "  (out): Linear(in_features=128, out_features=10, bias=True)\n",
      ")\n",
      "Epoch:  0 | train loss: 2.2902 | test accuracy: 0.09\n",
      "Epoch:  0 | train loss: 1.0761 | test accuracy: 0.50\n",
      "Epoch:  0 | train loss: 1.0191 | test accuracy: 0.68\n",
      "Epoch:  0 | train loss: 0.5322 | test accuracy: 0.81\n",
      "Epoch:  0 | train loss: 0.5192 | test accuracy: 0.81\n",
      "Epoch:  0 | train loss: 0.1809 | test accuracy: 0.89\n",
      "Epoch:  0 | train loss: 0.2989 | test accuracy: 0.92\n",
      "Epoch:  0 | train loss: 0.1435 | test accuracy: 0.91\n",
      "Epoch:  0 | train loss: 0.3821 | test accuracy: 0.93\n",
      "Epoch:  0 | train loss: 0.3452 | test accuracy: 0.94\n",
      "Epoch:  0 | train loss: 0.1566 | test accuracy: 0.94\n",
      "Epoch:  0 | train loss: 0.2755 | test accuracy: 0.95\n",
      "Epoch:  0 | train loss: 0.1932 | test accuracy: 0.93\n",
      "Epoch:  0 | train loss: 0.3079 | test accuracy: 0.95\n",
      "Epoch:  0 | train loss: 0.2014 | test accuracy: 0.96\n",
      "Epoch:  0 | train loss: 0.1138 | test accuracy: 0.95\n",
      "Epoch:  0 | train loss: 0.0079 | test accuracy: 0.96\n",
      "Epoch:  0 | train loss: 0.1204 | test accuracy: 0.95\n",
      "Epoch:  0 | train loss: 0.0891 | test accuracy: 0.95\n"
     ]
    }
   ],
   "source": [
    "hidden = 128\n",
    "class RNN(nn.Module):\n",
    "    def __init__(self):\n",
    "        super(RNN, self).__init__()\n",
    "\n",
    "        self.rnn = nn.LSTM(         # if use nn.RNN(), it hardly learns\n",
    "            input_size=INPUT_SIZE,\n",
    "            hidden_size=hidden,         # rnn hidden unit\n",
    "            num_layers=1,           # number of rnn layer\n",
    "            batch_first=True,       # input & output will has batch size as 1s dimension. e.g. (batch, time_step, input_size)\n",
    "        )\n",
    "\n",
    "        self.out = nn.Linear(hidden, 10)\n",
    "\n",
    "    def forward(self, x):\n",
    "        # x shape (batch, time_step, input_size)\n",
    "        # r_out shape (batch, time_step, output_size)\n",
    "        # h_n shape (n_layers, batch, hidden_size)\n",
    "        # h_c shape (n_layers, batch, hidden_size)\n",
    "        r_out, (h_n, h_c) = self.rnn(x, None)   # None represents zero initial hidden state\n",
    "\n",
    "        # choose r_out at the last time step\n",
    "        out = self.out(r_out[:, -1, :])\n",
    "        return out\n",
    "\n",
    "rnn = RNN()\n",
    "print(rnn)\n",
    "\n",
    "optimizer = torch.optim.Adam(rnn.parameters(), lr=LR)   # optimize all cnn parameters\n",
    "loss_func = nn.CrossEntropyLoss()                       # the target label is not one-hotted\n",
    "\n",
    "# training and testing\n",
    "for epoch in range(EPOCH):\n",
    "    for step, (x, y) in enumerate(train_loader):        # gives batch data\n",
    "        b_x = Variable(x.view(-1, 28, 28))              # reshape x to (batch, time_step, input_size)\n",
    "        b_y = Variable(y)                               # batch y\n",
    "\n",
    "        output = rnn(b_x)                               # rnn output\n",
    "        loss = loss_func(output, b_y)                   # cross entropy loss\n",
    "        optimizer.zero_grad()                           # clear gradients for this training step\n",
    "        loss.backward()                                 # backpropagation, compute gradients\n",
    "        optimizer.step()                                # apply gradients\n",
    "\n",
    "        if step % 50 == 0:\n",
    "            test_output = rnn(test_x)                   # (samples, time_step, input_size)\n",
    "            pred_y = torch.max(test_output, 1)[1].data.numpy().squeeze()\n",
    "            accuracy = sum(pred_y == test_y) / float(test_y.size)\n",
    "            print('Epoch: ', epoch, '| train loss: %.4f' % loss.data, '| test accuracy: %.2f' % accuracy)\n",
    "            acc_hidden128.append(accuracy)"
   ]
  },
  {
   "cell_type": "code",
   "execution_count": 5,
   "metadata": {},
   "outputs": [
    {
     "name": "stdout",
     "output_type": "stream",
     "text": [
      "0.958\n"
     ]
    },
    {
     "data": {
      "image/png": "[encoded data removed]",
      "text/plain": [
       "<Figure size 432x288 with 1 Axes>"
      ]
     },
     "metadata": {
      "needs_background": "light"
     },
     "output_type": "display_data"
    }
   ],
   "source": [
    "plt.plot(acc_hidden128)\n",
    "print(max(acc_hidden128))"
   ]
  },
  {
   "cell_type": "code",
   "execution_count": 6,
   "metadata": {},
   "outputs": [
    {
     "name": "stdout",
     "output_type": "stream",
     "text": [
      "RNN(\n",
      "  (rnn): LSTM(28, 16, batch_first=True)\n",
      "  (out): Linear(in_features=16, out_features=10, bias=True)\n",
      ")\n",
      "Epoch:  0 | train loss: 2.2993 | test accuracy: 0.10\n",
      "Epoch:  0 | train loss: 1.3742 | test accuracy: 0.50\n",
      "Epoch:  0 | train loss: 1.1313 | test accuracy: 0.58\n",
      "Epoch:  0 | train loss: 0.9791 | test accuracy: 0.67\n",
      "Epoch:  0 | train loss: 0.6734 | test accuracy: 0.71\n",
      "Epoch:  0 | train loss: 0.5828 | test accuracy: 0.74\n",
      "Epoch:  0 | train loss: 0.6358 | test accuracy: 0.79\n",
      "Epoch:  0 | train loss: 0.5609 | test accuracy: 0.81\n",
      "Epoch:  0 | train loss: 0.5708 | test accuracy: 0.81\n",
      "Epoch:  0 | train loss: 0.4544 | test accuracy: 0.84\n",
      "Epoch:  0 | train loss: 0.4538 | test accuracy: 0.85\n",
      "Epoch:  0 | train loss: 0.3371 | test accuracy: 0.86\n",
      "Epoch:  0 | train loss: 0.3372 | test accuracy: 0.89\n",
      "Epoch:  0 | train loss: 0.3971 | test accuracy: 0.88\n",
      "Epoch:  0 | train loss: 0.3994 | test accuracy: 0.88\n",
      "Epoch:  0 | train loss: 0.2472 | test accuracy: 0.89\n",
      "Epoch:  0 | train loss: 0.1289 | test accuracy: 0.88\n",
      "Epoch:  0 | train loss: 0.3912 | test accuracy: 0.90\n",
      "Epoch:  0 | train loss: 0.4098 | test accuracy: 0.89\n"
     ]
    }
   ],
   "source": [
    "hidden = 16\n",
    "acc_hidden16 = []\n",
    "class RNN(nn.Module):\n",
    "    def __init__(self):\n",
    "        super(RNN, self).__init__()\n",
    "\n",
    "        self.rnn = nn.LSTM(         # if use nn.RNN(), it hardly learns\n",
    "            input_size=INPUT_SIZE,\n",
    "            hidden_size=hidden,         # rnn hidden unit\n",
    "            num_layers=1,           # number of rnn layer\n",
    "            batch_first=True,       # input & output will has batch size as 1s dimension. e.g. (batch, time_step, input_size)\n",
    "        )\n",
    "\n",
    "        self.out = nn.Linear(hidden, 10)\n",
    "\n",
    "    def forward(self, x):\n",
    "        # x shape (batch, time_step, input_size)\n",
    "        # r_out shape (batch, time_step, output_size)\n",
    "        # h_n shape (n_layers, batch, hidden_size)\n",
    "        # h_c shape (n_layers, batch, hidden_size)\n",
    "        r_out, (h_n, h_c) = self.rnn(x, None)   # None represents zero initial hidden state\n",
    "\n",
    "        # choose r_out at the last time step\n",
    "        out = self.out(r_out[:, -1, :])\n",
    "        return out\n",
    "\n",
    "rnn = RNN()\n",
    "print(rnn)\n",
    "\n",
    "optimizer = torch.optim.Adam(rnn.parameters(), lr=LR)   # optimize all cnn parameters\n",
    "loss_func = nn.CrossEntropyLoss()                       # the target label is not one-hotted\n",
    "\n",
    "# training and testing\n",
    "for epoch in range(EPOCH):\n",
    "    for step, (x, y) in enumerate(train_loader):        # gives batch data\n",
    "        b_x = Variable(x.view(-1, 28, 28))              # reshape x to (batch, time_step, input_size)\n",
    "        b_y = Variable(y)                               # batch y\n",
    "\n",
    "        output = rnn(b_x)                               # rnn output\n",
    "        loss = loss_func(output, b_y)                   # cross entropy loss\n",
    "        optimizer.zero_grad()                           # clear gradients for this training step\n",
    "        loss.backward()                                 # backpropagation, compute gradients\n",
    "        optimizer.step()                                # apply gradients\n",
    "\n",
    "        if step % 50 == 0:\n",
    "            test_output = rnn(test_x)                   # (samples, time_step, input_size)\n",
    "            pred_y = torch.max(test_output, 1)[1].data.numpy().squeeze()\n",
    "            accuracy = sum(pred_y == test_y) / float(test_y.size)\n",
    "            print('Epoch: ', epoch, '| train loss: %.4f' % loss.data, '| test accuracy: %.2f' % accuracy)\n",
    "            acc_hidden16.append(accuracy)"
   ]
  },
  {
   "cell_type": "code",
   "execution_count": 7,
   "metadata": {},
   "outputs": [
    {
     "name": "stdout",
     "output_type": "stream",
     "text": [
      "0.899\n"
     ]
    },
    {
     "data": {
      "image/png": "[encoded data removed]",
      "text/plain": [
       "<Figure size 432x288 with 1 Axes>"
      ]
     },
     "metadata": {
      "needs_background": "light"
     },
     "output_type": "display_data"
    }
   ],
   "source": [
    "plt.plot(acc_hidden16)\n",
    "print(max(acc_hidden16))"
   ]
  },
  {
   "cell_type": "markdown",
   "metadata": {},
   "source": [
    "# 3-3 change the current optimization method"
   ]
  },
  {
   "cell_type": "code",
   "execution_count": 8,
   "metadata": {},
   "outputs": [
    {
     "name": "stdout",
     "output_type": "stream",
     "text": [
      "RNN(\n",
      "  (rnn): LSTM(28, 64, batch_first=True)\n",
      "  (out): Linear(in_features=64, out_features=10, bias=True)\n",
      ")\n",
      "Epoch:  0 | train loss: 2.3046 | test accuracy: 0.09\n",
      "Epoch:  0 | train loss: 0.7992 | test accuracy: 0.59\n",
      "Epoch:  0 | train loss: 0.6867 | test accuracy: 0.77\n",
      "Epoch:  0 | train loss: 0.6376 | test accuracy: 0.79\n",
      "Epoch:  0 | train loss: 0.2969 | test accuracy: 0.87\n",
      "Epoch:  0 | train loss: 0.6239 | test accuracy: 0.90\n",
      "Epoch:  0 | train loss: 0.3826 | test accuracy: 0.93\n",
      "Epoch:  0 | train loss: 0.2087 | test accuracy: 0.92\n",
      "Epoch:  0 | train loss: 0.1124 | test accuracy: 0.91\n",
      "Epoch:  0 | train loss: 0.1052 | test accuracy: 0.93\n",
      "Epoch:  0 | train loss: 0.2720 | test accuracy: 0.92\n",
      "Epoch:  0 | train loss: 0.3006 | test accuracy: 0.94\n",
      "Epoch:  0 | train loss: 0.1704 | test accuracy: 0.94\n",
      "Epoch:  0 | train loss: 0.1327 | test accuracy: 0.93\n",
      "Epoch:  0 | train loss: 0.0689 | test accuracy: 0.95\n",
      "Epoch:  0 | train loss: 0.2029 | test accuracy: 0.95\n",
      "Epoch:  0 | train loss: 0.1956 | test accuracy: 0.95\n",
      "Epoch:  0 | train loss: 0.2730 | test accuracy: 0.94\n",
      "Epoch:  0 | train loss: 0.3178 | test accuracy: 0.96\n"
     ]
    }
   ],
   "source": [
    "hidden = 64\n",
    "optimization_method = torch.optim.Adam(rnn.parameters(), lr=LR)\n",
    "acc_adam = []\n",
    "class RNN(nn.Module):\n",
    "    def __init__(self):\n",
    "        super(RNN, self).__init__()\n",
    "\n",
    "        self.rnn = nn.LSTM(         # if use nn.RNN(), it hardly learns\n",
    "            input_size=INPUT_SIZE,\n",
    "            hidden_size=hidden,         # rnn hidden unit\n",
    "            num_layers=1,           # number of rnn layer\n",
    "            batch_first=True,       # input & output will has batch size as 1s dimension. e.g. (batch, time_step, input_size)\n",
    "        )\n",
    "\n",
    "        self.out = nn.Linear(hidden, 10)\n",
    "\n",
    "    def forward(self, x):\n",
    "        # x shape (batch, time_step, input_size)\n",
    "        # r_out shape (batch, time_step, output_size)\n",
    "        # h_n shape (n_layers, batch, hidden_size)\n",
    "        # h_c shape (n_layers, batch, hidden_size)\n",
    "        r_out, (h_n, h_c) = self.rnn(x, None)   # None represents zero initial hidden state\n",
    "\n",
    "        # choose r_out at the last time step\n",
    "        out = self.out(r_out[:, -1, :])\n",
    "        return out\n",
    "\n",
    "rnn = RNN()\n",
    "print(rnn)\n",
    "\n",
    "optimizer = torch.optim.Adam(rnn.parameters(), lr=LR)# optimize all cnn parameters\n",
    "loss_func = nn.CrossEntropyLoss()                       # the target label is not one-hotted\n",
    "\n",
    "# training and testing\n",
    "for epoch in range(EPOCH):\n",
    "    for step, (x, y) in enumerate(train_loader):        # gives batch data\n",
    "        b_x = Variable(x.view(-1, 28, 28))              # reshape x to (batch, time_step, input_size)\n",
    "        b_y = Variable(y)                               # batch y\n",
    "\n",
    "        output = rnn(b_x)                               # rnn output\n",
    "        loss = loss_func(output, b_y)                   # cross entropy loss\n",
    "        optimizer.zero_grad()                           # clear gradients for this training step\n",
    "        loss.backward()                                 # backpropagation, compute gradients\n",
    "        optimizer.step()                                # apply gradients\n",
    "\n",
    "        if step % 50 == 0:\n",
    "            test_output = rnn(test_x)                   # (samples, time_step, input_size)\n",
    "            pred_y = torch.max(test_output, 1)[1].data.numpy().squeeze()\n",
    "            accuracy = sum(pred_y == test_y) / float(test_y.size)\n",
    "            print('Epoch: ', epoch, '| train loss: %.4f' % loss.data, '| test accuracy: %.2f' % accuracy)\n",
    "            acc_adam.append(accuracy)"
   ]
  },
  {
   "cell_type": "code",
   "execution_count": 15,
   "metadata": {},
   "outputs": [
    {
     "name": "stdout",
     "output_type": "stream",
     "text": [
      "0.9575\n"
     ]
    },
    {
     "data": {
      "image/png": "[encoded data removed]",
      "text/plain": [
       "<Figure size 432x288 with 1 Axes>"
      ]
     },
     "metadata": {
      "needs_background": "light"
     },
     "output_type": "display_data"
    }
   ],
   "source": [
    "plt.plot(acc_adam)\n",
    "print(max(acc_adam))"
   ]
  },
  {
   "cell_type": "code",
   "execution_count": 9,
   "metadata": {},
   "outputs": [
    {
     "name": "stdout",
     "output_type": "stream",
     "text": [
      "RNN(\n",
      "  (rnn): LSTM(28, 64, batch_first=True)\n",
      "  (out): Linear(in_features=64, out_features=10, bias=True)\n",
      ")\n",
      "Epoch:  0 | train loss: 2.3030 | test accuracy: 0.11\n",
      "Epoch:  0 | train loss: 1.1847 | test accuracy: 0.56\n",
      "Epoch:  0 | train loss: 0.9608 | test accuracy: 0.66\n",
      "Epoch:  0 | train loss: 0.9594 | test accuracy: 0.71\n",
      "Epoch:  0 | train loss: 0.7809 | test accuracy: 0.73\n",
      "Epoch:  0 | train loss: 0.7817 | test accuracy: 0.76\n",
      "Epoch:  0 | train loss: 0.5571 | test accuracy: 0.79\n",
      "Epoch:  0 | train loss: 0.6215 | test accuracy: 0.80\n",
      "Epoch:  0 | train loss: 0.4006 | test accuracy: 0.83\n",
      "Epoch:  0 | train loss: 0.3016 | test accuracy: 0.83\n",
      "Epoch:  0 | train loss: 0.5081 | test accuracy: 0.83\n",
      "Epoch:  0 | train loss: 0.3416 | test accuracy: 0.85\n",
      "Epoch:  0 | train loss: 0.3437 | test accuracy: 0.85\n",
      "Epoch:  0 | train loss: 0.4982 | test accuracy: 0.86\n",
      "Epoch:  0 | train loss: 0.2628 | test accuracy: 0.87\n",
      "Epoch:  0 | train loss: 0.3498 | test accuracy: 0.88\n",
      "Epoch:  0 | train loss: 0.4969 | test accuracy: 0.87\n",
      "Epoch:  0 | train loss: 0.1990 | test accuracy: 0.88\n",
      "Epoch:  0 | train loss: 0.2438 | test accuracy: 0.90\n"
     ]
    }
   ],
   "source": [
    "hidden = 64\n",
    "optimization_method = torch.optim.Adagrad(rnn.parameters(), lr=LR)\n",
    "acc_adaG = []\n",
    "class RNN(nn.Module):\n",
    "    def __init__(self):\n",
    "        super(RNN, self).__init__()\n",
    "\n",
    "        self.rnn = nn.LSTM(         # if use nn.RNN(), it hardly learns\n",
    "            input_size=INPUT_SIZE,\n",
    "            hidden_size=hidden,         # rnn hidden unit\n",
    "            num_layers=1,           # number of rnn layer\n",
    "            batch_first=True,       # input & output will has batch size as 1s dimension. e.g. (batch, time_step, input_size)\n",
    "        )\n",
    "\n",
    "        self.out = nn.Linear(hidden, 10)\n",
    "\n",
    "    def forward(self, x):\n",
    "        # x shape (batch, time_step, input_size)\n",
    "        # r_out shape (batch, time_step, output_size)\n",
    "        # h_n shape (n_layers, batch, hidden_size)\n",
    "        # h_c shape (n_layers, batch, hidden_size)\n",
    "        r_out, (h_n, h_c) = self.rnn(x, None)   # None represents zero initial hidden state\n",
    "\n",
    "        # choose r_out at the last time step\n",
    "        out = self.out(r_out[:, -1, :])\n",
    "        return out\n",
    "\n",
    "rnn = RNN()\n",
    "print(rnn)\n",
    "\n",
    "optimizer = torch.optim.Adagrad(rnn.parameters(), lr=LR)# optimize all cnn parameters\n",
    "loss_func = nn.CrossEntropyLoss()                       # the target label is not one-hotted\n",
    "\n",
    "# training and testing\n",
    "for epoch in range(EPOCH):\n",
    "    for step, (x, y) in enumerate(train_loader):        # gives batch data\n",
    "        b_x = Variable(x.view(-1, 28, 28))              # reshape x to (batch, time_step, input_size)\n",
    "        b_y = Variable(y)                               # batch y\n",
    "\n",
    "        output = rnn(b_x)                               # rnn output\n",
    "        loss = loss_func(output, b_y)                   # cross entropy loss\n",
    "        optimizer.zero_grad()                           # clear gradients for this training step\n",
    "        loss.backward()                                 # backpropagation, compute gradients\n",
    "        optimizer.step()                                # apply gradients\n",
    "\n",
    "        if step % 50 == 0:\n",
    "            test_output = rnn(test_x)                   # (samples, time_step, input_size)\n",
    "            pred_y = torch.max(test_output, 1)[1].data.numpy().squeeze()\n",
    "            accuracy = sum(pred_y == test_y) / float(test_y.size)\n",
    "            print('Epoch: ', epoch, '| train loss: %.4f' % loss.data, '| test accuracy: %.2f' % accuracy)\n",
    "            acc_adaG.append(accuracy)"
   ]
  },
  {
   "cell_type": "code",
   "execution_count": 16,
   "metadata": {},
   "outputs": [
    {
     "name": "stdout",
     "output_type": "stream",
     "text": [
      "0.8955\n"
     ]
    },
    {
     "data": {
      "image/png": "[encoded data removed]",
      "text/plain": [
       "<Figure size 432x288 with 1 Axes>"
      ]
     },
     "metadata": {
      "needs_background": "light"
     },
     "output_type": "display_data"
    }
   ],
   "source": [
    "plt.plot(acc_adaG)\n",
    "print(max(acc_adaG))"
   ]
  },
  {
   "cell_type": "code",
   "execution_count": 10,
   "metadata": {},
   "outputs": [
    {
     "name": "stdout",
     "output_type": "stream",
     "text": [
      "RNN(\n",
      "  (rnn): LSTM(28, 64, batch_first=True)\n",
      "  (out): Linear(in_features=64, out_features=10, bias=True)\n",
      ")\n",
      "Epoch:  0 | train loss: 2.2927 | test accuracy: 0.12\n",
      "Epoch:  0 | train loss: 1.3261 | test accuracy: 0.54\n",
      "Epoch:  0 | train loss: 0.9087 | test accuracy: 0.65\n",
      "Epoch:  0 | train loss: 0.7841 | test accuracy: 0.79\n",
      "Epoch:  0 | train loss: 0.4474 | test accuracy: 0.85\n",
      "Epoch:  0 | train loss: 0.2415 | test accuracy: 0.87\n",
      "Epoch:  0 | train loss: 0.3010 | test accuracy: 0.90\n",
      "Epoch:  0 | train loss: 0.1883 | test accuracy: 0.88\n",
      "Epoch:  0 | train loss: 0.4289 | test accuracy: 0.90\n",
      "Epoch:  0 | train loss: 0.1948 | test accuracy: 0.91\n",
      "Epoch:  0 | train loss: 0.2177 | test accuracy: 0.90\n",
      "Epoch:  0 | train loss: 0.0462 | test accuracy: 0.94\n",
      "Epoch:  0 | train loss: 0.1955 | test accuracy: 0.92\n",
      "Epoch:  0 | train loss: 0.2906 | test accuracy: 0.92\n",
      "Epoch:  0 | train loss: 0.1508 | test accuracy: 0.93\n",
      "Epoch:  0 | train loss: 0.1994 | test accuracy: 0.93\n",
      "Epoch:  0 | train loss: 0.4359 | test accuracy: 0.93\n",
      "Epoch:  0 | train loss: 0.1063 | test accuracy: 0.92\n",
      "Epoch:  0 | train loss: 0.1889 | test accuracy: 0.95\n"
     ]
    }
   ],
   "source": [
    "hidden = 64\n",
    "optimization_method = torch.optim.RMSprop(rnn.parameters(), lr=LR)\n",
    "acc_RMS = []\n",
    "class RNN(nn.Module):\n",
    "    def __init__(self):\n",
    "        super(RNN, self).__init__()\n",
    "\n",
    "        self.rnn = nn.LSTM(         # if use nn.RNN(), it hardly learns\n",
    "            input_size=INPUT_SIZE,\n",
    "            hidden_size=hidden,         # rnn hidden unit\n",
    "            num_layers=1,           # number of rnn layer\n",
    "            batch_first=True,       # input & output will has batch size as 1s dimension. e.g. (batch, time_step, input_size)\n",
    "        )\n",
    "\n",
    "        self.out = nn.Linear(hidden, 10)\n",
    "\n",
    "    def forward(self, x):\n",
    "        # x shape (batch, time_step, input_size)\n",
    "        # r_out shape (batch, time_step, output_size)\n",
    "        # h_n shape (n_layers, batch, hidden_size)\n",
    "        # h_c shape (n_layers, batch, hidden_size)\n",
    "        r_out, (h_n, h_c) = self.rnn(x, None)   # None represents zero initial hidden state\n",
    "\n",
    "        # choose r_out at the last time step\n",
    "        out = self.out(r_out[:, -1, :])\n",
    "        return out\n",
    "\n",
    "rnn = RNN()\n",
    "print(rnn)\n",
    "\n",
    "optimizer = torch.optim.RMSprop(rnn.parameters(), lr=LR)# optimize all cnn parameters\n",
    "loss_func = nn.CrossEntropyLoss()                       # the target label is not one-hotted\n",
    "\n",
    "# training and testing\n",
    "for epoch in range(EPOCH):\n",
    "    for step, (x, y) in enumerate(train_loader):        # gives batch data\n",
    "        b_x = Variable(x.view(-1, 28, 28))              # reshape x to (batch, time_step, input_size)\n",
    "        b_y = Variable(y)                               # batch y\n",
    "\n",
    "        output = rnn(b_x)                               # rnn output\n",
    "        loss = loss_func(output, b_y)                   # cross entropy loss\n",
    "        optimizer.zero_grad()                           # clear gradients for this training step\n",
    "        loss.backward()                                 # backpropagation, compute gradients\n",
    "        optimizer.step()                                # apply gradients\n",
    "\n",
    "        if step % 50 == 0:\n",
    "            test_output = rnn(test_x)                   # (samples, time_step, input_size)\n",
    "            pred_y = torch.max(test_output, 1)[1].data.numpy().squeeze()\n",
    "            accuracy = sum(pred_y == test_y) / float(test_y.size)\n",
    "            print('Epoch: ', epoch, '| train loss: %.4f' % loss.data, '| test accuracy: %.2f' % accuracy)\n",
    "            acc_RMS.append(accuracy)"
   ]
  },
  {
   "cell_type": "code",
   "execution_count": 17,
   "metadata": {},
   "outputs": [
    {
     "name": "stdout",
     "output_type": "stream",
     "text": [
      "0.9545\n"
     ]
    },
    {
     "data": {
      "image/png": "[encoded data removed]",
      "text/plain": [
       "<Figure size 432x288 with 1 Axes>"
      ]
     },
     "metadata": {
      "needs_background": "light"
     },
     "output_type": "display_data"
    }
   ],
   "source": [
    "plt.plot(acc_RMS)\n",
    "print(max(acc_RMS))"
   ]
  },
  {
   "cell_type": "markdown",
   "metadata": {},
   "source": [
    "# 3-4 setting ‘weight_decay’ value"
   ]
  },
  {
   "cell_type": "code",
   "execution_count": 11,
   "metadata": {},
   "outputs": [
    {
     "name": "stdout",
     "output_type": "stream",
     "text": [
      "RNN(\n",
      "  (rnn): LSTM(28, 64, batch_first=True)\n",
      "  (out): Linear(in_features=64, out_features=10, bias=True)\n",
      ")\n",
      "Epoch:  0 | train loss: 2.3051 | test accuracy: 0.11\n",
      "Epoch:  0 | train loss: 1.1226 | test accuracy: 0.60\n",
      "Epoch:  0 | train loss: 0.6233 | test accuracy: 0.78\n",
      "Epoch:  0 | train loss: 0.4666 | test accuracy: 0.83\n",
      "Epoch:  0 | train loss: 0.1939 | test accuracy: 0.86\n",
      "Epoch:  0 | train loss: 0.3738 | test accuracy: 0.88\n",
      "Epoch:  0 | train loss: 0.2362 | test accuracy: 0.90\n",
      "Epoch:  0 | train loss: 0.1533 | test accuracy: 0.89\n",
      "Epoch:  0 | train loss: 0.1875 | test accuracy: 0.91\n",
      "Epoch:  0 | train loss: 0.3104 | test accuracy: 0.91\n",
      "Epoch:  0 | train loss: 0.2455 | test accuracy: 0.90\n",
      "Epoch:  0 | train loss: 0.2324 | test accuracy: 0.94\n",
      "Epoch:  0 | train loss: 0.3324 | test accuracy: 0.94\n",
      "Epoch:  0 | train loss: 0.1493 | test accuracy: 0.93\n",
      "Epoch:  0 | train loss: 0.1488 | test accuracy: 0.94\n",
      "Epoch:  0 | train loss: 0.5160 | test accuracy: 0.94\n",
      "Epoch:  0 | train loss: 0.1928 | test accuracy: 0.94\n",
      "Epoch:  0 | train loss: 0.0807 | test accuracy: 0.95\n",
      "Epoch:  0 | train loss: 0.0992 | test accuracy: 0.94\n"
     ]
    }
   ],
   "source": [
    "hidden = 64\n",
    "weight_decay = 1e-5\n",
    "optimization_method = torch.optim.Adam(rnn.parameters(), lr=LR, weight_decay=weight_decay)\n",
    "acc_L2 = []\n",
    "\n",
    "class RNN(nn.Module):\n",
    "    def __init__(self):\n",
    "        super(RNN, self).__init__()\n",
    "\n",
    "        self.rnn = nn.LSTM(         # if use nn.RNN(), it hardly learns\n",
    "            input_size=INPUT_SIZE,\n",
    "            hidden_size=hidden,         # rnn hidden unit\n",
    "            num_layers=1,           # number of rnn layer\n",
    "            batch_first=True,       # input & output will has batch size as 1s dimension. e.g. (batch, time_step, input_size)\n",
    "        )\n",
    "\n",
    "        self.out = nn.Linear(hidden, 10)\n",
    "\n",
    "    def forward(self, x):\n",
    "        # x shape (batch, time_step, input_size)\n",
    "        # r_out shape (batch, time_step, output_size)\n",
    "        # h_n shape (n_layers, batch, hidden_size)\n",
    "        # h_c shape (n_layers, batch, hidden_size)\n",
    "        r_out, (h_n, h_c) = self.rnn(x, None)   # None represents zero initial hidden state\n",
    "\n",
    "        # choose r_out at the last time step\n",
    "        out = self.out(r_out[:, -1, :])\n",
    "        return out\n",
    "\n",
    "rnn = RNN()\n",
    "print(rnn)\n",
    "\n",
    "optimizer = torch.optim.Adam(rnn.parameters(), lr=LR, weight_decay=weight_decay)# optimize all cnn parameters\n",
    "loss_func = nn.CrossEntropyLoss()                       # the target label is not one-hotted\n",
    "\n",
    "# training and testing\n",
    "for epoch in range(EPOCH):\n",
    "    for step, (x, y) in enumerate(train_loader):        # gives batch data\n",
    "        b_x = Variable(x.view(-1, 28, 28))              # reshape x to (batch, time_step, input_size)\n",
    "        b_y = Variable(y)                               # batch y\n",
    "\n",
    "        output = rnn(b_x)                               # rnn output\n",
    "        loss = loss_func(output, b_y)                   # cross entropy loss\n",
    "        optimizer.zero_grad()                           # clear gradients for this training step\n",
    "        loss.backward()                                 # backpropagation, compute gradients\n",
    "        optimizer.step()                                # apply gradients\n",
    "\n",
    "        if step % 50 == 0:\n",
    "            test_output = rnn(test_x)                   # (samples, time_step, input_size)\n",
    "            pred_y = torch.max(test_output, 1)[1].data.numpy().squeeze()\n",
    "            accuracy = sum(pred_y == test_y) / float(test_y.size)\n",
    "            print('Epoch: ', epoch, '| train loss: %.4f' % loss.data, '| test accuracy: %.2f' % accuracy)\n",
    "            acc_L2.append(accuracy)"
   ]
  },
  {
   "cell_type": "code",
   "execution_count": 18,
   "metadata": {},
   "outputs": [
    {
     "name": "stdout",
     "output_type": "stream",
     "text": [
      "0.9505\n"
     ]
    },
    {
     "data": {
      "image/png": "[encoded data removed]",
      "text/plain": [
       "<Figure size 432x288 with 1 Axes>"
      ]
     },
     "metadata": {
      "needs_background": "light"
     },
     "output_type": "display_data"
    }
   ],
   "source": [
    "plt.plot(acc_L2)\n",
    "print(max(acc_L2))"
   ]
  },
  {
   "cell_type": "markdown",
   "metadata": {},
   "source": [
    "# 3-5 use dropout "
   ]
  },
  {
   "cell_type": "code",
   "execution_count": 12,
   "metadata": {},
   "outputs": [
    {
     "name": "stderr",
     "output_type": "stream",
     "text": [
      "C:\\Users\\tjdwo\\Anaconda3\\envs\\tf1.8\\lib\\site-packages\\torch\\nn\\modules\\rnn.py:54: UserWarning: dropout option adds dropout after all but last recurrent layer, so non-zero dropout expects num_layers greater than 1, but got dropout=0.7 and num_layers=1\n",
      "  \"num_layers={}\".format(dropout, num_layers))\n"
     ]
    },
    {
     "name": "stdout",
     "output_type": "stream",
     "text": [
      "RNN(\n",
      "  (rnn): LSTM(28, 64, batch_first=True, dropout=0.7)\n",
      "  (out): Linear(in_features=64, out_features=10, bias=True)\n",
      ")\n",
      "Epoch:  0 | train loss: 2.2967 | test accuracy: 0.12\n",
      "Epoch:  0 | train loss: 1.2801 | test accuracy: 0.56\n",
      "Epoch:  0 | train loss: 0.7489 | test accuracy: 0.73\n",
      "Epoch:  0 | train loss: 0.4621 | test accuracy: 0.79\n",
      "Epoch:  0 | train loss: 0.3593 | test accuracy: 0.88\n",
      "Epoch:  0 | train loss: 0.3820 | test accuracy: 0.88\n",
      "Epoch:  0 | train loss: 0.3836 | test accuracy: 0.90\n",
      "Epoch:  0 | train loss: 0.1908 | test accuracy: 0.92\n",
      "Epoch:  0 | train loss: 0.2320 | test accuracy: 0.91\n",
      "Epoch:  0 | train loss: 0.3856 | test accuracy: 0.93\n",
      "Epoch:  0 | train loss: 0.1152 | test accuracy: 0.94\n",
      "Epoch:  0 | train loss: 0.2868 | test accuracy: 0.93\n",
      "Epoch:  0 | train loss: 0.1062 | test accuracy: 0.94\n",
      "Epoch:  0 | train loss: 0.2281 | test accuracy: 0.95\n",
      "Epoch:  0 | train loss: 0.1250 | test accuracy: 0.94\n",
      "Epoch:  0 | train loss: 0.0682 | test accuracy: 0.94\n",
      "Epoch:  0 | train loss: 0.1019 | test accuracy: 0.95\n",
      "Epoch:  0 | train loss: 0.1254 | test accuracy: 0.95\n",
      "Epoch:  0 | train loss: 0.1148 | test accuracy: 0.96\n"
     ]
    }
   ],
   "source": [
    "hidden = 64\n",
    "weight_decay = 1e-5\n",
    "optimization_method = torch.optim.Adam(rnn.parameters(), lr=LR, weight_decay=weight_decay)\n",
    "dropout = 0.7\n",
    "acc_dropout = []\n",
    "\n",
    "class RNN(nn.Module):\n",
    "    def __init__(self):\n",
    "        super(RNN, self).__init__()\n",
    "\n",
    "        self.rnn = nn.LSTM(         # if use nn.RNN(), it hardly learns\n",
    "            input_size=INPUT_SIZE,\n",
    "            hidden_size=hidden,         # rnn hidden unit\n",
    "            num_layers=1,           # number of rnn layer\n",
    "            batch_first=True,       # input & output will has batch size as 1s dimension. e.g. (batch, time_step, input_size)\n",
    "            dropout=dropout\n",
    "        )\n",
    "\n",
    "        self.out = nn.Linear(hidden, 10)\n",
    "\n",
    "    def forward(self, x):\n",
    "        # x shape (batch, time_step, input_size)\n",
    "        # r_out shape (batch, time_step, output_size)\n",
    "        # h_n shape (n_layers, batch, hidden_size)\n",
    "        # h_c shape (n_layers, batch, hidden_size)\n",
    "        r_out, (h_n, h_c) = self.rnn(x, None)   # None represents zero initial hidden state\n",
    "\n",
    "        # choose r_out at the last time step\n",
    "        out = self.out(r_out[:, -1, :])\n",
    "        \n",
    "        return out\n",
    "\n",
    "rnn = RNN()\n",
    "print(rnn)\n",
    "\n",
    "optimizer = torch.optim.Adam(rnn.parameters(), lr=LR, weight_decay=weight_decay)# optimize all cnn parameters\n",
    "loss_func = nn.CrossEntropyLoss()                       # the target label is not one-hotted\n",
    "\n",
    "# training and testing\n",
    "for epoch in range(EPOCH):\n",
    "    for step, (x, y) in enumerate(train_loader):        # gives batch data\n",
    "        b_x = Variable(x.view(-1, 28, 28))              # reshape x to (batch, time_step, input_size)\n",
    "        b_y = Variable(y)                               # batch y\n",
    "\n",
    "        output = rnn(b_x)                               # rnn output\n",
    "        loss = loss_func(output, b_y)                   # cross entropy loss\n",
    "        optimizer.zero_grad()                           # clear gradients for this training step\n",
    "        loss.backward()                                 # backpropagation, compute gradients\n",
    "        optimizer.step()                                # apply gradients\n",
    "\n",
    "        if step % 50 == 0:\n",
    "            test_output = rnn(test_x)                   # (samples, time_step, input_size)\n",
    "            pred_y = torch.max(test_output, 1)[1].data.numpy().squeeze()\n",
    "            accuracy = sum(pred_y == test_y) / float(test_y.size)\n",
    "            print('Epoch: ', epoch, '| train loss: %.4f' % loss.data, '| test accuracy: %.2f' % accuracy)\n",
    "            acc_dropout.append(accuracy)"
   ]
  },
  {
   "cell_type": "code",
   "execution_count": 19,
   "metadata": {},
   "outputs": [
    {
     "name": "stdout",
     "output_type": "stream",
     "text": [
      "0.956\n"
     ]
    },
    {
     "data": {
      "image/png": "[encoded data removed]",
      "text/plain": [
       "<Figure size 432x288 with 1 Axes>"
      ]
     },
     "metadata": {
      "needs_background": "light"
     },
     "output_type": "display_data"
    }
   ],
   "source": [
    "plt.plot(acc_dropout)\n",
    "print(max(acc_dropout))"
   ]
  },
  {
   "cell_type": "markdown",
   "metadata": {},
   "source": [
    "# 3-6 LSTM to GRU"
   ]
  },
  {
   "cell_type": "code",
   "execution_count": 13,
   "metadata": {},
   "outputs": [
    {
     "name": "stdout",
     "output_type": "stream",
     "text": [
      "RNN(\n",
      "  (rnn): GRU(28, 64, num_layers=2, batch_first=True, dropout=0.7)\n",
      "  (out): Linear(in_features=64, out_features=10, bias=True)\n",
      ")\n",
      "Epoch:  0 | train loss: 2.3081 | test accuracy: 0.11\n",
      "Epoch:  0 | train loss: 1.2296 | test accuracy: 0.60\n",
      "Epoch:  0 | train loss: 0.6060 | test accuracy: 0.81\n",
      "Epoch:  0 | train loss: 0.3839 | test accuracy: 0.89\n",
      "Epoch:  0 | train loss: 0.3824 | test accuracy: 0.90\n",
      "Epoch:  0 | train loss: 0.1171 | test accuracy: 0.92\n",
      "Epoch:  0 | train loss: 0.2925 | test accuracy: 0.90\n",
      "Epoch:  0 | train loss: 0.2272 | test accuracy: 0.91\n",
      "Epoch:  0 | train loss: 0.2347 | test accuracy: 0.90\n",
      "Epoch:  0 | train loss: 0.0834 | test accuracy: 0.92\n",
      "Epoch:  0 | train loss: 0.1091 | test accuracy: 0.94\n",
      "Epoch:  0 | train loss: 0.1323 | test accuracy: 0.91\n",
      "Epoch:  0 | train loss: 0.2977 | test accuracy: 0.93\n",
      "Epoch:  0 | train loss: 0.1237 | test accuracy: 0.95\n",
      "Epoch:  0 | train loss: 0.2581 | test accuracy: 0.94\n",
      "Epoch:  0 | train loss: 0.4143 | test accuracy: 0.95\n",
      "Epoch:  0 | train loss: 0.2202 | test accuracy: 0.93\n",
      "Epoch:  0 | train loss: 0.1862 | test accuracy: 0.93\n",
      "Epoch:  0 | train loss: 0.1128 | test accuracy: 0.94\n"
     ]
    }
   ],
   "source": [
    "hidden = 64\n",
    "weight_decay = 1e-5\n",
    "optimization_method = torch.optim.Adam(rnn.parameters(), lr=LR, weight_decay=weight_decay)\n",
    "dropout = 0.7\n",
    "acc_GRU = []\n",
    "\n",
    "class RNN(nn.Module):\n",
    "    def __init__(self):\n",
    "        super(RNN, self).__init__()\n",
    "\n",
    "        self.rnn = nn.GRU(         # if use nn.RNN(), it hardly learns\n",
    "            input_size=INPUT_SIZE,\n",
    "            hidden_size=hidden,         # rnn hidden unit\n",
    "            num_layers=2,           # number of rnn layer\n",
    "            batch_first=True,       # input & output will has batch size as 1s dimension. e.g. (batch, time_step, input_size)\n",
    "            dropout=dropout\n",
    "        )\n",
    "\n",
    "        self.out = nn.Linear(hidden, 10)\n",
    "\n",
    "    def forward(self, x):\n",
    "        # x shape (batch, time_step, input_size)\n",
    "        # r_out shape (batch, time_step, output_size)\n",
    "        # h_n shape (n_layers, batch, hidden_size)\n",
    "        # h_c shape (n_layers, batch, hidden_size)\n",
    "        r_out, (h_n, h_c) = self.rnn(x, None)   # None represents zero initial hidden state\n",
    "\n",
    "        # choose r_out at the last time step\n",
    "        out = self.out(r_out[:, -1, :])\n",
    "        \n",
    "        return out\n",
    "\n",
    "rnn = RNN()\n",
    "print(rnn)\n",
    "\n",
    "optimizer = torch.optim.Adam(rnn.parameters(), lr=LR, weight_decay=weight_decay)# optimize all cnn parameters\n",
    "loss_func = nn.CrossEntropyLoss()                       # the target label is not one-hotted\n",
    "\n",
    "# training and testing\n",
    "for epoch in range(EPOCH):\n",
    "    for step, (x, y) in enumerate(train_loader):        # gives batch data\n",
    "        b_x = Variable(x.view(-1, 28, 28))              # reshape x to (batch, time_step, input_size)\n",
    "        b_y = Variable(y)                               # batch y\n",
    "\n",
    "        output = rnn(b_x)                               # rnn output\n",
    "        loss = loss_func(output, b_y)                   # cross entropy loss\n",
    "        optimizer.zero_grad()                           # clear gradients for this training step\n",
    "        loss.backward()                                 # backpropagation, compute gradients\n",
    "        optimizer.step()                                # apply gradients\n",
    "\n",
    "        if step % 50 == 0:\n",
    "            test_output = rnn(test_x)                   # (samples, time_step, input_size)\n",
    "            pred_y = torch.max(test_output, 1)[1].data.numpy().squeeze()\n",
    "            accuracy = sum(pred_y == test_y) / float(test_y.size)\n",
    "            print('Epoch: ', epoch, '| train loss: %.4f' % loss.data, '| test accuracy: %.2f' % accuracy)\n",
    "            acc_GRU.append(accuracy)"
   ]
  },
  {
   "cell_type": "code",
   "execution_count": 20,
   "metadata": {},
   "outputs": [
    {
     "name": "stdout",
     "output_type": "stream",
     "text": [
      "0.95\n"
     ]
    },
    {
     "data": {
      "image/png": "[encoded data removed]",
      "text/plain": [
       "<Figure size 432x288 with 1 Axes>"
      ]
     },
     "metadata": {
      "needs_background": "light"
     },
     "output_type": "display_data"
    }
   ],
   "source": [
    "plt.plot(acc_GRU)\n",
    "print(max(acc_GRU))"
   ]
  },
  {
   "cell_type": "markdown",
   "metadata": {},
   "source": [
    "# 3-7 choose ONE other parameters of RNN program (batch_size 64 -> 128)"
   ]
  },
  {
   "cell_type": "code",
   "execution_count": 14,
   "metadata": {},
   "outputs": [
    {
     "name": "stderr",
     "output_type": "stream",
     "text": [
      "C:\\Users\\tjdwo\\Anaconda3\\envs\\tf1.8\\lib\\site-packages\\torchvision\\datasets\\mnist.py:58: UserWarning: test_data has been renamed data\n",
      "  warnings.warn(\"test_data has been renamed data\")\n",
      "C:\\Users\\tjdwo\\Anaconda3\\envs\\tf1.8\\lib\\site-packages\\ipykernel\\__main__.py:11: UserWarning: volatile was removed and now has no effect. Use `with torch.no_grad():` instead.\n",
      "C:\\Users\\tjdwo\\Anaconda3\\envs\\tf1.8\\lib\\site-packages\\torchvision\\datasets\\mnist.py:48: UserWarning: test_labels has been renamed targets\n",
      "  warnings.warn(\"test_labels has been renamed targets\")\n"
     ]
    },
    {
     "name": "stdout",
     "output_type": "stream",
     "text": [
      "RNN(\n",
      "  (rnn): GRU(28, 64, num_layers=2, batch_first=True, dropout=0.7)\n",
      "  (out): Linear(in_features=64, out_features=10, bias=True)\n",
      ")\n",
      "Epoch:  0 | train loss: 2.3195 | test accuracy: 0.10\n",
      "Epoch:  0 | train loss: 0.7821 | test accuracy: 0.70\n",
      "Epoch:  0 | train loss: 0.4742 | test accuracy: 0.88\n",
      "Epoch:  0 | train loss: 0.3315 | test accuracy: 0.91\n",
      "Epoch:  0 | train loss: 0.2207 | test accuracy: 0.93\n",
      "Epoch:  0 | train loss: 0.2170 | test accuracy: 0.93\n",
      "Epoch:  0 | train loss: 0.2173 | test accuracy: 0.94\n",
      "Epoch:  0 | train loss: 0.3153 | test accuracy: 0.94\n",
      "Epoch:  0 | train loss: 0.1294 | test accuracy: 0.95\n",
      "Epoch:  0 | train loss: 0.1184 | test accuracy: 0.95\n"
     ]
    }
   ],
   "source": [
    "hidden = 64\n",
    "weight_decay = 1e-5\n",
    "optimization_method = torch.optim.Adam(rnn.parameters(), lr=LR, weight_decay=weight_decay)\n",
    "dropout = 0.7\n",
    "acc_batch128 = []\n",
    "\n",
    "BATCH_SIZE = 128\n",
    "train_loader = torch.utils.data.DataLoader(dataset=train_data, batch_size=BATCH_SIZE, shuffle=True)\n",
    "# convert test data into Variable, pick 2000 samples to speed up testing\n",
    "test_data = dsets.MNIST(root='./mnist/', train=False, transform=transforms.ToTensor())\n",
    "test_x = Variable(test_data.test_data, volatile=True).type(torch.FloatTensor)[:2000]/255.   # shape (2000, 28, 28) value in range(0,1)\n",
    "test_y = test_data.test_labels.numpy().squeeze()[:2000]    # covert to numpy array\n",
    "\n",
    "class RNN(nn.Module):\n",
    "    def __init__(self):\n",
    "        super(RNN, self).__init__()\n",
    "\n",
    "        self.rnn = nn.GRU(         # if use nn.RNN(), it hardly learns\n",
    "            input_size=INPUT_SIZE,\n",
    "            hidden_size=hidden,         # rnn hidden unit\n",
    "            num_layers=2,           # number of rnn layer\n",
    "            batch_first=True,       # input & output will has batch size as 1s dimension. e.g. (batch, time_step, input_size)\n",
    "            dropout=dropout\n",
    "        )\n",
    "\n",
    "        self.out = nn.Linear(hidden, 10)\n",
    "\n",
    "    def forward(self, x):\n",
    "        # x shape (batch, time_step, input_size)\n",
    "        # r_out shape (batch, time_step, output_size)\n",
    "        # h_n shape (n_layers, batch, hidden_size)\n",
    "        # h_c shape (n_layers, batch, hidden_size)\n",
    "        r_out, (h_n, h_c) = self.rnn(x, None)   # None represents zero initial hidden state\n",
    "\n",
    "        # choose r_out at the last time step\n",
    "        out = self.out(r_out[:, -1, :])\n",
    "        \n",
    "        return out\n",
    "\n",
    "rnn = RNN()\n",
    "print(rnn)\n",
    "\n",
    "optimizer = torch.optim.Adam(rnn.parameters(), lr=LR, weight_decay=weight_decay)# optimize all cnn parameters\n",
    "loss_func = nn.CrossEntropyLoss()                       # the target label is not one-hotted\n",
    "\n",
    "# training and testing\n",
    "for epoch in range(EPOCH):\n",
    "    for step, (x, y) in enumerate(train_loader):        # gives batch data\n",
    "        b_x = Variable(x.view(-1, 28, 28))              # reshape x to (batch, time_step, input_size)\n",
    "        b_y = Variable(y)                               # batch y\n",
    "\n",
    "        output = rnn(b_x)                               # rnn output\n",
    "        loss = loss_func(output, b_y)                   # cross entropy loss\n",
    "        optimizer.zero_grad()                           # clear gradients for this training step\n",
    "        loss.backward()                                 # backpropagation, compute gradients\n",
    "        optimizer.step()                                # apply gradients\n",
    "\n",
    "        if step % 50 == 0:\n",
    "            test_output = rnn(test_x)                   # (samples, time_step, input_size)\n",
    "            pred_y = torch.max(test_output, 1)[1].data.numpy().squeeze()\n",
    "            accuracy = sum(pred_y == test_y) / float(test_y.size)\n",
    "            print('Epoch: ', epoch, '| train loss: %.4f' % loss.data, '| test accuracy: %.2f' % accuracy)\n",
    "            acc_batch128.append(accuracy)"
   ]
  },
  {
   "cell_type": "code",
   "execution_count": 21,
   "metadata": {},
   "outputs": [
    {
     "name": "stdout",
     "output_type": "stream",
     "text": [
      "0.9545\n"
     ]
    },
    {
     "data": {
      "image/png": "[encoded data removed]",
      "text/plain": [
       "<Figure size 432x288 with 1 Axes>"
      ]
     },
     "metadata": {
      "needs_background": "light"
     },
     "output_type": "display_data"
    }
   ],
   "source": [
    "plt.plot(acc_batch128)\n",
    "print(max(acc_batch128))"
   ]
  },
  {
   "cell_type": "code",
   "execution_count": 61,
   "metadata": {},
   "outputs": [],
   "source": [
    "acc_list = [acc_hidden64, acc_hidden128, acc_hidden16, acc_adam, acc_adaG, acc_RMS, acc_L2, acc_dropout, acc_GRU, acc_batch128]"
   ]
  },
  {
   "cell_type": "code",
   "execution_count": 91,
   "metadata": {},
   "outputs": [
    {
     "name": "stdout",
     "output_type": "stream",
     "text": [
      "['acc_hidden64']\n",
      "max accuracy :  0.9535\n",
      "mean accuracy :  0.850\n",
      "max - mean :  0.104\n",
      "\n",
      "['acc_hidden128']\n",
      "max accuracy :  0.958\n",
      "mean accuracy :  0.844\n",
      "max - mean :  0.114\n",
      "\n",
      "['acc_hidden16']\n",
      "max accuracy :  0.899\n",
      "mean accuracy :  0.763\n",
      "max - mean :  0.136\n",
      "\n",
      "['acc_adam']\n",
      "max accuracy :  0.9575\n",
      "mean accuracy :  0.852\n",
      "max - mean :  0.106\n",
      "\n",
      "['acc_adaG']\n",
      "max accuracy :  0.8955\n",
      "mean accuracy :  0.767\n",
      "max - mean :  0.128\n",
      "\n",
      "['acc_RMS']\n",
      "max accuracy :  0.9545\n",
      "mean accuracy :  0.830\n",
      "max - mean :  0.125\n",
      "\n",
      "['acc_L2']\n",
      "max accuracy :  0.9505\n",
      "mean accuracy :  0.847\n",
      "max - mean :  0.104\n",
      "\n",
      "['acc_dropout']\n",
      "max accuracy :  0.956\n",
      "mean accuracy :  0.848\n",
      "max - mean :  0.108\n",
      "\n",
      "['acc_GRU']\n",
      "max accuracy :  0.95\n",
      "mean accuracy :  0.857\n",
      "max - mean :  0.093\n",
      "\n",
      "['acc_batch128']\n",
      "max accuracy :  0.9545\n",
      "mean accuracy :  0.824\n"
     ]
    },
    {
     "data": {
      "text/plain": [
       "[<matplotlib.lines.Line2D at 0x153000c8ac8>]"
      ]
     },
     "execution_count": 91,
     "metadata": {},
     "output_type": "execute_result"
    },
    {
     "data": {
      "image/png": "[encoded data removed]",
      "text/plain": [
       "<Figure size 432x288 with 1 Axes>"
      ]
     },
     "metadata": {
      "needs_background": "light"
     },
     "output_type": "display_data"
    }
   ],
   "source": [
    "import inspect\n",
    "\n",
    "\n",
    "def retrieve_name(var):\n",
    "    callers_local_vars = inspect.currentframe().f_back.f_locals.items()\n",
    "    return [var_name for var_name, var_val in callers_local_vars if var_val is var]\n",
    "\n",
    "\n",
    "for i in range(len(acc_list)-1):\n",
    "    \n",
    "    print(retrieve_name(acc_list[i]))\n",
    "    _max = max(acc_list[i])\n",
    "    print(\"max accuracy : \",_max)\n",
    "    \n",
    "    _mean = \"%0.3f\"%(sum(acc_list[i])/len(acc_list[i]))\n",
    "    print(\"mean accuracy : \", _mean)\n",
    "    \n",
    "    sub = \"%0.3f\"%(float(_max) - float(_mean))\n",
    "    print(\"max - mean : \", sub)\n",
    "    \n",
    "    plt.plot(acc_list[i])\n",
    "    print()\n",
    "    \n",
    "print([retrieve_name(acc_list[len(acc_list)-1])[0]])\n",
    "print(\"max accuracy : \",max(acc_list[len(acc_list)-1]))\n",
    "print(\"mean accuracy : \", \"%0.3f\"%(sum(acc_list[len(acc_list)-1])/len(acc_list[len(acc_list)-1])))\n",
    "plt.plot(acc_list[i])\n",
    "\n"
   ]
  },
  {
   "cell_type": "markdown",
   "metadata": {},
   "source": [
    "# 3-8 compare the accuracy of RNN for Mnist with that of CNN."
   ]
  },
  {
   "cell_type": "markdown",
   "metadata": {},
   "source": [
    "## cnn 결과는 hw 4-1에서 가져왔습니다."
   ]
  },
  {
   "cell_type": "markdown",
   "metadata": {},
   "source": [
    "### 이미지를 별첨하여 비교하겠습니다."
   ]
  },
  {
   "cell_type": "markdown",
   "metadata": {},
   "source": [
    "# CNN-RNN 정확도 비교.png 파일입니다."
   ]
  },
  {
   "cell_type": "code",
   "execution_count": null,
   "metadata": {},
   "outputs": [],
   "source": []
  }
 ],
 "metadata": {
  "kernelspec": {
   "display_name": "Python [conda env:tf1.8]",
   "language": "python",
   "name": "conda-env-tf1.8-py"
  },
  "language_info": {
   "codemirror_mode": {
    "name": "ipython",
    "version": 3
   },
   "file_extension": ".py",
   "mimetype": "text/x-python",
   "name": "python",
   "nbconvert_exporter": "python",
   "pygments_lexer": "ipython3",
   "version": "3.5.6"
  }
 },
 "nbformat": 4,
 "nbformat_minor": 2
}
